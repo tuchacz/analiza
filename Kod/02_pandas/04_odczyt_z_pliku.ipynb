{
 "cells": [
  {
   "cell_type": "code",
   "execution_count": 1,
   "metadata": {
    "collapsed": true
   },
   "outputs": [],
   "source": [
    "import pandas as pd"
   ]
  },
  {
   "cell_type": "markdown",
   "source": [
    "CSV"
   ],
   "metadata": {
    "collapsed": false
   }
  },
  {
   "cell_type": "code",
   "execution_count": 2,
   "outputs": [
    {
     "data": {
      "text/plain": "       Name  Age       Location      Occupation  Salary\n0     Alice   28       New York        Engineer   80000\n1       Bob   35    Los Angeles          Doctor  120000\n2   Charlie   22        Chicago         Student       0\n3     David   40  San Francisco         Manager   95000\n4     Emily   29          Miami        Designer   75000\n5     Frank   32         Boston         Teacher   60000\n6     Grace   27        Seattle       Scientist  110000\n7    Hannah   45         Dallas          Lawyer  130000\n8       Ian   31         Denver          Writer   70000\n9     Julia   24         Austin          Artist   55000\n10    Karen   38        Houston      Accountant   90000\n11     Liam   26        Phoenix    Photographer   50000\n12    Megan   33       Portland       Architect  105000\n13   Nathan   29        Atlanta        Musician   40000\n14   Olivia   27        Detroit            Chef   65000\n15     Paul   36    Minneapolis  Police Officer   85000",
      "text/html": "<div>\n<style scoped>\n    .dataframe tbody tr th:only-of-type {\n        vertical-align: middle;\n    }\n\n    .dataframe tbody tr th {\n        vertical-align: top;\n    }\n\n    .dataframe thead th {\n        text-align: right;\n    }\n</style>\n<table border=\"1\" class=\"dataframe\">\n  <thead>\n    <tr style=\"text-align: right;\">\n      <th></th>\n      <th>Name</th>\n      <th>Age</th>\n      <th>Location</th>\n      <th>Occupation</th>\n      <th>Salary</th>\n    </tr>\n  </thead>\n  <tbody>\n    <tr>\n      <th>0</th>\n      <td>Alice</td>\n      <td>28</td>\n      <td>New York</td>\n      <td>Engineer</td>\n      <td>80000</td>\n    </tr>\n    <tr>\n      <th>1</th>\n      <td>Bob</td>\n      <td>35</td>\n      <td>Los Angeles</td>\n      <td>Doctor</td>\n      <td>120000</td>\n    </tr>\n    <tr>\n      <th>2</th>\n      <td>Charlie</td>\n      <td>22</td>\n      <td>Chicago</td>\n      <td>Student</td>\n      <td>0</td>\n    </tr>\n    <tr>\n      <th>3</th>\n      <td>David</td>\n      <td>40</td>\n      <td>San Francisco</td>\n      <td>Manager</td>\n      <td>95000</td>\n    </tr>\n    <tr>\n      <th>4</th>\n      <td>Emily</td>\n      <td>29</td>\n      <td>Miami</td>\n      <td>Designer</td>\n      <td>75000</td>\n    </tr>\n    <tr>\n      <th>5</th>\n      <td>Frank</td>\n      <td>32</td>\n      <td>Boston</td>\n      <td>Teacher</td>\n      <td>60000</td>\n    </tr>\n    <tr>\n      <th>6</th>\n      <td>Grace</td>\n      <td>27</td>\n      <td>Seattle</td>\n      <td>Scientist</td>\n      <td>110000</td>\n    </tr>\n    <tr>\n      <th>7</th>\n      <td>Hannah</td>\n      <td>45</td>\n      <td>Dallas</td>\n      <td>Lawyer</td>\n      <td>130000</td>\n    </tr>\n    <tr>\n      <th>8</th>\n      <td>Ian</td>\n      <td>31</td>\n      <td>Denver</td>\n      <td>Writer</td>\n      <td>70000</td>\n    </tr>\n    <tr>\n      <th>9</th>\n      <td>Julia</td>\n      <td>24</td>\n      <td>Austin</td>\n      <td>Artist</td>\n      <td>55000</td>\n    </tr>\n    <tr>\n      <th>10</th>\n      <td>Karen</td>\n      <td>38</td>\n      <td>Houston</td>\n      <td>Accountant</td>\n      <td>90000</td>\n    </tr>\n    <tr>\n      <th>11</th>\n      <td>Liam</td>\n      <td>26</td>\n      <td>Phoenix</td>\n      <td>Photographer</td>\n      <td>50000</td>\n    </tr>\n    <tr>\n      <th>12</th>\n      <td>Megan</td>\n      <td>33</td>\n      <td>Portland</td>\n      <td>Architect</td>\n      <td>105000</td>\n    </tr>\n    <tr>\n      <th>13</th>\n      <td>Nathan</td>\n      <td>29</td>\n      <td>Atlanta</td>\n      <td>Musician</td>\n      <td>40000</td>\n    </tr>\n    <tr>\n      <th>14</th>\n      <td>Olivia</td>\n      <td>27</td>\n      <td>Detroit</td>\n      <td>Chef</td>\n      <td>65000</td>\n    </tr>\n    <tr>\n      <th>15</th>\n      <td>Paul</td>\n      <td>36</td>\n      <td>Minneapolis</td>\n      <td>Police Officer</td>\n      <td>85000</td>\n    </tr>\n  </tbody>\n</table>\n</div>"
     },
     "execution_count": 2,
     "metadata": {},
     "output_type": "execute_result"
    }
   ],
   "source": [
    "df_csv = pd.read_csv('../../Pliki/02_pandas/people.csv')    # import pliku csv\n",
    "df_csv"
   ],
   "metadata": {
    "collapsed": false
   }
  },
  {
   "cell_type": "markdown",
   "source": [
    "Excel import"
   ],
   "metadata": {
    "collapsed": false
   }
  },
  {
   "cell_type": "code",
   "execution_count": 4,
   "outputs": [
    {
     "data": {
      "text/plain": "         Product             Category  Price  Stock\n0         Laptop          Electronics   1200     50\n1     Smartphone          Electronics    800    100\n2        T-shirt             Clothing     25    300\n3          Jeans             Clothing     60    150\n4       Sneakers                Shoes     80    200\n5     Headphones          Electronics    150     75\n6       Backpack          Accessories     40    120\n7           Desk            Furniture    250     30\n8          Chair            Furniture    150     50\n9         Guitar  Musical Instruments    300     40\n10      Keyboard  Musical Instruments    200     60\n11          Book                Books     15    500\n12         Watch          Accessories    100     80\n13    Sunglasses          Accessories     50    100\n14     Microwave           Appliances    100     25\n15  Refrigerator           Appliances    500     15",
      "text/html": "<div>\n<style scoped>\n    .dataframe tbody tr th:only-of-type {\n        vertical-align: middle;\n    }\n\n    .dataframe tbody tr th {\n        vertical-align: top;\n    }\n\n    .dataframe thead th {\n        text-align: right;\n    }\n</style>\n<table border=\"1\" class=\"dataframe\">\n  <thead>\n    <tr style=\"text-align: right;\">\n      <th></th>\n      <th>Product</th>\n      <th>Category</th>\n      <th>Price</th>\n      <th>Stock</th>\n    </tr>\n  </thead>\n  <tbody>\n    <tr>\n      <th>0</th>\n      <td>Laptop</td>\n      <td>Electronics</td>\n      <td>1200</td>\n      <td>50</td>\n    </tr>\n    <tr>\n      <th>1</th>\n      <td>Smartphone</td>\n      <td>Electronics</td>\n      <td>800</td>\n      <td>100</td>\n    </tr>\n    <tr>\n      <th>2</th>\n      <td>T-shirt</td>\n      <td>Clothing</td>\n      <td>25</td>\n      <td>300</td>\n    </tr>\n    <tr>\n      <th>3</th>\n      <td>Jeans</td>\n      <td>Clothing</td>\n      <td>60</td>\n      <td>150</td>\n    </tr>\n    <tr>\n      <th>4</th>\n      <td>Sneakers</td>\n      <td>Shoes</td>\n      <td>80</td>\n      <td>200</td>\n    </tr>\n    <tr>\n      <th>5</th>\n      <td>Headphones</td>\n      <td>Electronics</td>\n      <td>150</td>\n      <td>75</td>\n    </tr>\n    <tr>\n      <th>6</th>\n      <td>Backpack</td>\n      <td>Accessories</td>\n      <td>40</td>\n      <td>120</td>\n    </tr>\n    <tr>\n      <th>7</th>\n      <td>Desk</td>\n      <td>Furniture</td>\n      <td>250</td>\n      <td>30</td>\n    </tr>\n    <tr>\n      <th>8</th>\n      <td>Chair</td>\n      <td>Furniture</td>\n      <td>150</td>\n      <td>50</td>\n    </tr>\n    <tr>\n      <th>9</th>\n      <td>Guitar</td>\n      <td>Musical Instruments</td>\n      <td>300</td>\n      <td>40</td>\n    </tr>\n    <tr>\n      <th>10</th>\n      <td>Keyboard</td>\n      <td>Musical Instruments</td>\n      <td>200</td>\n      <td>60</td>\n    </tr>\n    <tr>\n      <th>11</th>\n      <td>Book</td>\n      <td>Books</td>\n      <td>15</td>\n      <td>500</td>\n    </tr>\n    <tr>\n      <th>12</th>\n      <td>Watch</td>\n      <td>Accessories</td>\n      <td>100</td>\n      <td>80</td>\n    </tr>\n    <tr>\n      <th>13</th>\n      <td>Sunglasses</td>\n      <td>Accessories</td>\n      <td>50</td>\n      <td>100</td>\n    </tr>\n    <tr>\n      <th>14</th>\n      <td>Microwave</td>\n      <td>Appliances</td>\n      <td>100</td>\n      <td>25</td>\n    </tr>\n    <tr>\n      <th>15</th>\n      <td>Refrigerator</td>\n      <td>Appliances</td>\n      <td>500</td>\n      <td>15</td>\n    </tr>\n  </tbody>\n</table>\n</div>"
     },
     "execution_count": 4,
     "metadata": {},
     "output_type": "execute_result"
    }
   ],
   "source": [
    "df_excel =pd.read_excel('../../Pliki/02_pandas/products.xlsx')\n",
    "df_excel"
   ],
   "metadata": {
    "collapsed": false
   }
  },
  {
   "cell_type": "code",
   "execution_count": null,
   "outputs": [],
   "source": [],
   "metadata": {
    "collapsed": false
   }
  }
 ],
 "metadata": {
  "kernelspec": {
   "display_name": "Python 3",
   "language": "python",
   "name": "python3"
  },
  "language_info": {
   "codemirror_mode": {
    "name": "ipython",
    "version": 2
   },
   "file_extension": ".py",
   "mimetype": "text/x-python",
   "name": "python",
   "nbconvert_exporter": "python",
   "pygments_lexer": "ipython2",
   "version": "2.7.6"
  }
 },
 "nbformat": 4,
 "nbformat_minor": 0
}
