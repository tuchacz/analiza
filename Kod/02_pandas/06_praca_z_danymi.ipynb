{
 "cells": [
  {
   "cell_type": "code",
   "execution_count": 1,
   "metadata": {
    "collapsed": true
   },
   "outputs": [],
   "source": [
    "import pandas as pd\n",
    "import numpy as np"
   ]
  },
  {
   "cell_type": "code",
   "execution_count": 2,
   "outputs": [
    {
     "data": {
      "text/plain": "                                         offer_title     price  \\\n0                              Kawalerka na sprzedaż  240000.0   \n1  Nowoczesna kawalerka z winda plus garaż podziemny  250000.0   \n2        Nowa kawalerka z Balkonem/Legnicka/Magnolia  259000.0   \n3  Kawalerka z balkonem/klucze I kwartał 2022/60 ...  269000.0   \n4  40 tys. taniej od dewelopera/Kawalerka/Magnoli...  258000.0   \n\n   price_per_meter     offer_type  floor   area  rooms offer_type_of_building  \\\n0          8888.89        Private    1.0  27.00      1          Housing Block   \n1          7142.86        Private    1.0  35.00      1          Housing Block   \n2         10360.00  Estate Agency    2.0  25.00      1          Housing Block   \n3         10275.02        Private    3.0  26.18      1     Apartment Building   \n4          9923.08  Estate Agency    3.0  26.00      1          Housing Block   \n\n    market        city_name    voivodeship    month  year  population  \\\n0  primary      Bolesławiec  Lower Silesia  January  2022       39603   \n1  primary  Jelcz-Laskowice  Lower Silesia  January  2022       15828   \n2  primary          Wrocław  Lower Silesia  January  2022      634487   \n3  primary          Wrocław  Lower Silesia  January  2022      634487   \n4  primary          Wrocław  Lower Silesia  January  2022      634487   \n\n   longitude   latitude  \n0  15.565105  51.263033  \n1  17.349964  51.039831  \n2  17.032669  51.108978  \n3  17.032669  51.108978  \n4  17.032669  51.108978  ",
      "text/html": "<div>\n<style scoped>\n    .dataframe tbody tr th:only-of-type {\n        vertical-align: middle;\n    }\n\n    .dataframe tbody tr th {\n        vertical-align: top;\n    }\n\n    .dataframe thead th {\n        text-align: right;\n    }\n</style>\n<table border=\"1\" class=\"dataframe\">\n  <thead>\n    <tr style=\"text-align: right;\">\n      <th></th>\n      <th>offer_title</th>\n      <th>price</th>\n      <th>price_per_meter</th>\n      <th>offer_type</th>\n      <th>floor</th>\n      <th>area</th>\n      <th>rooms</th>\n      <th>offer_type_of_building</th>\n      <th>market</th>\n      <th>city_name</th>\n      <th>voivodeship</th>\n      <th>month</th>\n      <th>year</th>\n      <th>population</th>\n      <th>longitude</th>\n      <th>latitude</th>\n    </tr>\n  </thead>\n  <tbody>\n    <tr>\n      <th>0</th>\n      <td>Kawalerka na sprzedaż</td>\n      <td>240000.0</td>\n      <td>8888.89</td>\n      <td>Private</td>\n      <td>1.0</td>\n      <td>27.00</td>\n      <td>1</td>\n      <td>Housing Block</td>\n      <td>primary</td>\n      <td>Bolesławiec</td>\n      <td>Lower Silesia</td>\n      <td>January</td>\n      <td>2022</td>\n      <td>39603</td>\n      <td>15.565105</td>\n      <td>51.263033</td>\n    </tr>\n    <tr>\n      <th>1</th>\n      <td>Nowoczesna kawalerka z winda plus garaż podziemny</td>\n      <td>250000.0</td>\n      <td>7142.86</td>\n      <td>Private</td>\n      <td>1.0</td>\n      <td>35.00</td>\n      <td>1</td>\n      <td>Housing Block</td>\n      <td>primary</td>\n      <td>Jelcz-Laskowice</td>\n      <td>Lower Silesia</td>\n      <td>January</td>\n      <td>2022</td>\n      <td>15828</td>\n      <td>17.349964</td>\n      <td>51.039831</td>\n    </tr>\n    <tr>\n      <th>2</th>\n      <td>Nowa kawalerka z Balkonem/Legnicka/Magnolia</td>\n      <td>259000.0</td>\n      <td>10360.00</td>\n      <td>Estate Agency</td>\n      <td>2.0</td>\n      <td>25.00</td>\n      <td>1</td>\n      <td>Housing Block</td>\n      <td>primary</td>\n      <td>Wrocław</td>\n      <td>Lower Silesia</td>\n      <td>January</td>\n      <td>2022</td>\n      <td>634487</td>\n      <td>17.032669</td>\n      <td>51.108978</td>\n    </tr>\n    <tr>\n      <th>3</th>\n      <td>Kawalerka z balkonem/klucze I kwartał 2022/60 ...</td>\n      <td>269000.0</td>\n      <td>10275.02</td>\n      <td>Private</td>\n      <td>3.0</td>\n      <td>26.18</td>\n      <td>1</td>\n      <td>Apartment Building</td>\n      <td>primary</td>\n      <td>Wrocław</td>\n      <td>Lower Silesia</td>\n      <td>January</td>\n      <td>2022</td>\n      <td>634487</td>\n      <td>17.032669</td>\n      <td>51.108978</td>\n    </tr>\n    <tr>\n      <th>4</th>\n      <td>40 tys. taniej od dewelopera/Kawalerka/Magnoli...</td>\n      <td>258000.0</td>\n      <td>9923.08</td>\n      <td>Estate Agency</td>\n      <td>3.0</td>\n      <td>26.00</td>\n      <td>1</td>\n      <td>Housing Block</td>\n      <td>primary</td>\n      <td>Wrocław</td>\n      <td>Lower Silesia</td>\n      <td>January</td>\n      <td>2022</td>\n      <td>634487</td>\n      <td>17.032669</td>\n      <td>51.108978</td>\n    </tr>\n  </tbody>\n</table>\n</div>"
     },
     "execution_count": 2,
     "metadata": {},
     "output_type": "execute_result"
    }
   ],
   "source": [
    "df_house = pd.read_csv('../../Pliki/02_pandas/house_price.csv')\n",
    "df_house.head()"
   ],
   "metadata": {
    "collapsed": false
   }
  },
  {
   "cell_type": "code",
   "execution_count": 3,
   "outputs": [
    {
     "name": "stdout",
     "output_type": "stream",
     "text": [
      "<class 'pandas.core.frame.DataFrame'>\n",
      "RangeIndex: 62731 entries, 0 to 62730\n",
      "Data columns (total 16 columns):\n",
      " #   Column                  Non-Null Count  Dtype  \n",
      "---  ------                  --------------  -----  \n",
      " 0   offer_title             62731 non-null  object \n",
      " 1   price                   62731 non-null  float64\n",
      " 2   price_per_meter         62731 non-null  float64\n",
      " 3   offer_type              62731 non-null  object \n",
      " 4   floor                   61246 non-null  float64\n",
      " 5   area                    61246 non-null  float64\n",
      " 6   rooms                   62731 non-null  int64  \n",
      " 7   offer_type_of_building  61246 non-null  object \n",
      " 8   market                  62731 non-null  object \n",
      " 9   city_name               62731 non-null  object \n",
      " 10  voivodeship             62731 non-null  object \n",
      " 11  month                   62731 non-null  object \n",
      " 12  year                    62731 non-null  int64  \n",
      " 13  population              62731 non-null  int64  \n",
      " 14  longitude               62731 non-null  float64\n",
      " 15  latitude                62731 non-null  float64\n",
      "dtypes: float64(6), int64(3), object(7)\n",
      "memory usage: 7.7+ MB\n"
     ]
    }
   ],
   "source": [
    "df_house.info()  #info o typach kolumn: Non-Null oznacza ile weirszy jest pustych; object to string"
   ],
   "metadata": {
    "collapsed": false
   }
  },
  {
   "cell_type": "code",
   "execution_count": 4,
   "outputs": [
    {
     "data": {
      "text/plain": "offer_title                  0\nprice                        0\nprice_per_meter              0\noffer_type                   0\nfloor                     1485\narea                      1485\nrooms                        0\noffer_type_of_building    1485\nmarket                       0\ncity_name                    0\nvoivodeship                  0\nmonth                        0\nyear                         0\npopulation                   0\nlongitude                    0\nlatitude                     0\ndtype: int64"
     },
     "execution_count": 4,
     "metadata": {},
     "output_type": "execute_result"
    }
   ],
   "source": [
    "df_house.isna().sum()  # sumowanie brakujacych wierszy"
   ],
   "metadata": {
    "collapsed": false
   }
  },
  {
   "cell_type": "code",
   "execution_count": 5,
   "outputs": [],
   "source": [
    "df_house = df_house.dropna()  #usuniecie nie potrzebnych zerowych wartosci"
   ],
   "metadata": {
    "collapsed": false
   }
  },
  {
   "cell_type": "code",
   "execution_count": 6,
   "outputs": [
    {
     "data": {
      "text/plain": "                                             offer_title     price  \\\n0                                  Kawalerka na sprzedaż  240000.0   \n1      Nowoczesna kawalerka z winda plus garaż podziemny  250000.0   \n2            Nowa kawalerka z Balkonem/Legnicka/Magnolia  259000.0   \n3      Kawalerka z balkonem/klucze I kwartał 2022/60 ...  269000.0   \n4      40 tys. taniej od dewelopera/Kawalerka/Magnoli...  258000.0   \n...                                                  ...       ...   \n62726                  Mieszkanie 4-pokojowe 57m2 parter  230000.0   \n62727  Mieszkanie 4-pokojowe spółdz. własność. z umeb...  390000.0   \n62728                     Mieszkanie z lokalem użytkowym  330000.0   \n62729                        Mieszkanie 80m2  przy lesie  830000.0   \n62730  Duże, komfortowe mieszkanie blisko Parku Zdroj...  990000.0   \n\n       price_per_meter     offer_type  floor    area  rooms  \\\n0              8888.89        Private    1.0   27.00      1   \n1              7142.86        Private    1.0   35.00      1   \n2             10360.00  Estate Agency    2.0   25.00      1   \n3             10275.02        Private    3.0   26.18      1   \n4              9923.08  Estate Agency    3.0   26.00      1   \n...                ...            ...    ...     ...    ...   \n62726          4035.09        Private    0.0   57.00      4   \n62727          5735.29        Private    1.0   68.00      4   \n62728          2704.92        Private    1.0  122.00      4   \n62729         10375.00        Private    1.0   80.00      4   \n62730          9437.56        Private    3.0  104.90      4   \n\n      offer_type_of_building       market        city_name     voivodeship  \\\n0              Housing Block      primary      Bolesławiec   Lower Silesia   \n1              Housing Block      primary  Jelcz-Laskowice   Lower Silesia   \n2              Housing Block      primary          Wrocław   Lower Silesia   \n3         Apartment Building      primary          Wrocław   Lower Silesia   \n4              Housing Block      primary          Wrocław   Lower Silesia   \n...                      ...          ...              ...             ...   \n62726          Housing Block  aftermarket       Złocieniec  West Pomerania   \n62727          Housing Block  aftermarket            Łobez  West Pomerania   \n62728                  Other  aftermarket          Świdwin  West Pomerania   \n62729          Housing Block  aftermarket      Świnoujście  West Pomerania   \n62730          Housing Block  aftermarket      Świnoujście  West Pomerania   \n\n         month  year  population  longitude   latitude  \n0      January  2022       39603  15.565105  51.263033  \n1      January  2022       15828  17.349964  51.039831  \n2      January  2022      634487  17.032669  51.108978  \n3      January  2022      634487  17.032669  51.108978  \n4      January  2022      634487  17.032669  51.108978  \n...        ...   ...         ...        ...        ...  \n62726    March  2022       13224  16.012066  53.531070  \n62727    March  2022       10438  15.621349  53.639119  \n62728    March  2022       15725  15.777351  53.774704  \n62729    March  2022       41371  14.251070  53.909748  \n62730    March  2022       41371  14.251070  53.909748  \n\n[61246 rows x 16 columns]",
      "text/html": "<div>\n<style scoped>\n    .dataframe tbody tr th:only-of-type {\n        vertical-align: middle;\n    }\n\n    .dataframe tbody tr th {\n        vertical-align: top;\n    }\n\n    .dataframe thead th {\n        text-align: right;\n    }\n</style>\n<table border=\"1\" class=\"dataframe\">\n  <thead>\n    <tr style=\"text-align: right;\">\n      <th></th>\n      <th>offer_title</th>\n      <th>price</th>\n      <th>price_per_meter</th>\n      <th>offer_type</th>\n      <th>floor</th>\n      <th>area</th>\n      <th>rooms</th>\n      <th>offer_type_of_building</th>\n      <th>market</th>\n      <th>city_name</th>\n      <th>voivodeship</th>\n      <th>month</th>\n      <th>year</th>\n      <th>population</th>\n      <th>longitude</th>\n      <th>latitude</th>\n    </tr>\n  </thead>\n  <tbody>\n    <tr>\n      <th>0</th>\n      <td>Kawalerka na sprzedaż</td>\n      <td>240000.0</td>\n      <td>8888.89</td>\n      <td>Private</td>\n      <td>1.0</td>\n      <td>27.00</td>\n      <td>1</td>\n      <td>Housing Block</td>\n      <td>primary</td>\n      <td>Bolesławiec</td>\n      <td>Lower Silesia</td>\n      <td>January</td>\n      <td>2022</td>\n      <td>39603</td>\n      <td>15.565105</td>\n      <td>51.263033</td>\n    </tr>\n    <tr>\n      <th>1</th>\n      <td>Nowoczesna kawalerka z winda plus garaż podziemny</td>\n      <td>250000.0</td>\n      <td>7142.86</td>\n      <td>Private</td>\n      <td>1.0</td>\n      <td>35.00</td>\n      <td>1</td>\n      <td>Housing Block</td>\n      <td>primary</td>\n      <td>Jelcz-Laskowice</td>\n      <td>Lower Silesia</td>\n      <td>January</td>\n      <td>2022</td>\n      <td>15828</td>\n      <td>17.349964</td>\n      <td>51.039831</td>\n    </tr>\n    <tr>\n      <th>2</th>\n      <td>Nowa kawalerka z Balkonem/Legnicka/Magnolia</td>\n      <td>259000.0</td>\n      <td>10360.00</td>\n      <td>Estate Agency</td>\n      <td>2.0</td>\n      <td>25.00</td>\n      <td>1</td>\n      <td>Housing Block</td>\n      <td>primary</td>\n      <td>Wrocław</td>\n      <td>Lower Silesia</td>\n      <td>January</td>\n      <td>2022</td>\n      <td>634487</td>\n      <td>17.032669</td>\n      <td>51.108978</td>\n    </tr>\n    <tr>\n      <th>3</th>\n      <td>Kawalerka z balkonem/klucze I kwartał 2022/60 ...</td>\n      <td>269000.0</td>\n      <td>10275.02</td>\n      <td>Private</td>\n      <td>3.0</td>\n      <td>26.18</td>\n      <td>1</td>\n      <td>Apartment Building</td>\n      <td>primary</td>\n      <td>Wrocław</td>\n      <td>Lower Silesia</td>\n      <td>January</td>\n      <td>2022</td>\n      <td>634487</td>\n      <td>17.032669</td>\n      <td>51.108978</td>\n    </tr>\n    <tr>\n      <th>4</th>\n      <td>40 tys. taniej od dewelopera/Kawalerka/Magnoli...</td>\n      <td>258000.0</td>\n      <td>9923.08</td>\n      <td>Estate Agency</td>\n      <td>3.0</td>\n      <td>26.00</td>\n      <td>1</td>\n      <td>Housing Block</td>\n      <td>primary</td>\n      <td>Wrocław</td>\n      <td>Lower Silesia</td>\n      <td>January</td>\n      <td>2022</td>\n      <td>634487</td>\n      <td>17.032669</td>\n      <td>51.108978</td>\n    </tr>\n    <tr>\n      <th>...</th>\n      <td>...</td>\n      <td>...</td>\n      <td>...</td>\n      <td>...</td>\n      <td>...</td>\n      <td>...</td>\n      <td>...</td>\n      <td>...</td>\n      <td>...</td>\n      <td>...</td>\n      <td>...</td>\n      <td>...</td>\n      <td>...</td>\n      <td>...</td>\n      <td>...</td>\n      <td>...</td>\n    </tr>\n    <tr>\n      <th>62726</th>\n      <td>Mieszkanie 4-pokojowe 57m2 parter</td>\n      <td>230000.0</td>\n      <td>4035.09</td>\n      <td>Private</td>\n      <td>0.0</td>\n      <td>57.00</td>\n      <td>4</td>\n      <td>Housing Block</td>\n      <td>aftermarket</td>\n      <td>Złocieniec</td>\n      <td>West Pomerania</td>\n      <td>March</td>\n      <td>2022</td>\n      <td>13224</td>\n      <td>16.012066</td>\n      <td>53.531070</td>\n    </tr>\n    <tr>\n      <th>62727</th>\n      <td>Mieszkanie 4-pokojowe spółdz. własność. z umeb...</td>\n      <td>390000.0</td>\n      <td>5735.29</td>\n      <td>Private</td>\n      <td>1.0</td>\n      <td>68.00</td>\n      <td>4</td>\n      <td>Housing Block</td>\n      <td>aftermarket</td>\n      <td>Łobez</td>\n      <td>West Pomerania</td>\n      <td>March</td>\n      <td>2022</td>\n      <td>10438</td>\n      <td>15.621349</td>\n      <td>53.639119</td>\n    </tr>\n    <tr>\n      <th>62728</th>\n      <td>Mieszkanie z lokalem użytkowym</td>\n      <td>330000.0</td>\n      <td>2704.92</td>\n      <td>Private</td>\n      <td>1.0</td>\n      <td>122.00</td>\n      <td>4</td>\n      <td>Other</td>\n      <td>aftermarket</td>\n      <td>Świdwin</td>\n      <td>West Pomerania</td>\n      <td>March</td>\n      <td>2022</td>\n      <td>15725</td>\n      <td>15.777351</td>\n      <td>53.774704</td>\n    </tr>\n    <tr>\n      <th>62729</th>\n      <td>Mieszkanie 80m2  przy lesie</td>\n      <td>830000.0</td>\n      <td>10375.00</td>\n      <td>Private</td>\n      <td>1.0</td>\n      <td>80.00</td>\n      <td>4</td>\n      <td>Housing Block</td>\n      <td>aftermarket</td>\n      <td>Świnoujście</td>\n      <td>West Pomerania</td>\n      <td>March</td>\n      <td>2022</td>\n      <td>41371</td>\n      <td>14.251070</td>\n      <td>53.909748</td>\n    </tr>\n    <tr>\n      <th>62730</th>\n      <td>Duże, komfortowe mieszkanie blisko Parku Zdroj...</td>\n      <td>990000.0</td>\n      <td>9437.56</td>\n      <td>Private</td>\n      <td>3.0</td>\n      <td>104.90</td>\n      <td>4</td>\n      <td>Housing Block</td>\n      <td>aftermarket</td>\n      <td>Świnoujście</td>\n      <td>West Pomerania</td>\n      <td>March</td>\n      <td>2022</td>\n      <td>41371</td>\n      <td>14.251070</td>\n      <td>53.909748</td>\n    </tr>\n  </tbody>\n</table>\n<p>61246 rows × 16 columns</p>\n</div>"
     },
     "execution_count": 6,
     "metadata": {},
     "output_type": "execute_result"
    }
   ],
   "source": [
    "df_house"
   ],
   "metadata": {
    "collapsed": false
   }
  },
  {
   "cell_type": "code",
   "execution_count": 7,
   "outputs": [
    {
     "data": {
      "text/plain": "offer_title               0\nprice                     0\nprice_per_meter           0\noffer_type                0\nfloor                     0\narea                      0\nrooms                     0\noffer_type_of_building    0\nmarket                    0\ncity_name                 0\nvoivodeship               0\nmonth                     0\nyear                      0\npopulation                0\nlongitude                 0\nlatitude                  0\ndtype: int64"
     },
     "execution_count": 7,
     "metadata": {},
     "output_type": "execute_result"
    }
   ],
   "source": [
    "df_house.isna().sum()"
   ],
   "metadata": {
    "collapsed": false
   }
  },
  {
   "cell_type": "code",
   "execution_count": 8,
   "outputs": [],
   "source": [
    "pd.set_option('display.float_format', lambda\n",
    "    x: '%5f' % x)  #kazda z wartosci z dokladnoscia do 5 miesjc po przecinku, wylaczenie notacji naukowej"
   ],
   "metadata": {
    "collapsed": false
   }
  },
  {
   "cell_type": "code",
   "execution_count": 9,
   "outputs": [
    {
     "data": {
      "text/plain": "                 price  price_per_meter        floor          area  \\\ncount     61246.000000     61246.000000 61246.000000  61246.000000   \nmean     398999.685439      7582.487659     2.399030     91.299661   \nstd     2048308.341988     36871.279279     2.148906   3155.851008   \nmin           1.000000         0.020000    -1.000000      1.000000   \n25%      260000.000000      5257.830000     1.000000     42.000000   \n50%      345000.000000      6587.865000     2.000000     51.170000   \n75%      460000.000000      8775.510000     3.000000     63.000000   \nmax   504151616.000000   9002707.430000    11.000000 399000.000000   \n\n             rooms         year     population    longitude     latitude  \ncount 61246.000000 61246.000000   61246.000000 61246.000000 61246.000000  \nmean      2.512327  2022.000000  314611.131502    19.156589    51.822034  \nstd       0.824062     0.000000  453265.910523     2.139119     1.324257  \nmin       1.000000  2022.000000    1328.000000    14.251070    49.296945  \n25%       2.000000  2022.000000   33967.000000    17.561497    50.687112  \n50%       2.000000  2022.000000  103997.000000    19.272156    51.768732  \n75%       3.000000  2022.000000  402465.000000    20.930831    52.848462  \nmax       4.000000  2022.000000 1744351.000000    23.887382    54.790132  ",
      "text/html": "<div>\n<style scoped>\n    .dataframe tbody tr th:only-of-type {\n        vertical-align: middle;\n    }\n\n    .dataframe tbody tr th {\n        vertical-align: top;\n    }\n\n    .dataframe thead th {\n        text-align: right;\n    }\n</style>\n<table border=\"1\" class=\"dataframe\">\n  <thead>\n    <tr style=\"text-align: right;\">\n      <th></th>\n      <th>price</th>\n      <th>price_per_meter</th>\n      <th>floor</th>\n      <th>area</th>\n      <th>rooms</th>\n      <th>year</th>\n      <th>population</th>\n      <th>longitude</th>\n      <th>latitude</th>\n    </tr>\n  </thead>\n  <tbody>\n    <tr>\n      <th>count</th>\n      <td>61246.000000</td>\n      <td>61246.000000</td>\n      <td>61246.000000</td>\n      <td>61246.000000</td>\n      <td>61246.000000</td>\n      <td>61246.000000</td>\n      <td>61246.000000</td>\n      <td>61246.000000</td>\n      <td>61246.000000</td>\n    </tr>\n    <tr>\n      <th>mean</th>\n      <td>398999.685439</td>\n      <td>7582.487659</td>\n      <td>2.399030</td>\n      <td>91.299661</td>\n      <td>2.512327</td>\n      <td>2022.000000</td>\n      <td>314611.131502</td>\n      <td>19.156589</td>\n      <td>51.822034</td>\n    </tr>\n    <tr>\n      <th>std</th>\n      <td>2048308.341988</td>\n      <td>36871.279279</td>\n      <td>2.148906</td>\n      <td>3155.851008</td>\n      <td>0.824062</td>\n      <td>0.000000</td>\n      <td>453265.910523</td>\n      <td>2.139119</td>\n      <td>1.324257</td>\n    </tr>\n    <tr>\n      <th>min</th>\n      <td>1.000000</td>\n      <td>0.020000</td>\n      <td>-1.000000</td>\n      <td>1.000000</td>\n      <td>1.000000</td>\n      <td>2022.000000</td>\n      <td>1328.000000</td>\n      <td>14.251070</td>\n      <td>49.296945</td>\n    </tr>\n    <tr>\n      <th>25%</th>\n      <td>260000.000000</td>\n      <td>5257.830000</td>\n      <td>1.000000</td>\n      <td>42.000000</td>\n      <td>2.000000</td>\n      <td>2022.000000</td>\n      <td>33967.000000</td>\n      <td>17.561497</td>\n      <td>50.687112</td>\n    </tr>\n    <tr>\n      <th>50%</th>\n      <td>345000.000000</td>\n      <td>6587.865000</td>\n      <td>2.000000</td>\n      <td>51.170000</td>\n      <td>2.000000</td>\n      <td>2022.000000</td>\n      <td>103997.000000</td>\n      <td>19.272156</td>\n      <td>51.768732</td>\n    </tr>\n    <tr>\n      <th>75%</th>\n      <td>460000.000000</td>\n      <td>8775.510000</td>\n      <td>3.000000</td>\n      <td>63.000000</td>\n      <td>3.000000</td>\n      <td>2022.000000</td>\n      <td>402465.000000</td>\n      <td>20.930831</td>\n      <td>52.848462</td>\n    </tr>\n    <tr>\n      <th>max</th>\n      <td>504151616.000000</td>\n      <td>9002707.430000</td>\n      <td>11.000000</td>\n      <td>399000.000000</td>\n      <td>4.000000</td>\n      <td>2022.000000</td>\n      <td>1744351.000000</td>\n      <td>23.887382</td>\n      <td>54.790132</td>\n    </tr>\n  </tbody>\n</table>\n</div>"
     },
     "execution_count": 9,
     "metadata": {},
     "output_type": "execute_result"
    }
   ],
   "source": [
    "df_house.describe()"
   ],
   "metadata": {
    "collapsed": false
   }
  },
  {
   "cell_type": "code",
   "execution_count": 10,
   "outputs": [
    {
     "data": {
      "text/plain": "                offer_title offer_type offer_type_of_building       market  \\\ncount                 61246      61246                  61246        61246   \nunique                28489          2                      5            2   \ntop     Sprzedam mieszkanie    Private          Housing Block  aftermarket   \nfreq                   1815      44476                  43800        53944   \n\n       city_name voivodeship  month  \ncount      61246       61246  61246  \nunique       609          16      3  \ntop     Warszawa     Masovia  March  \nfreq        4157        9042  21357  ",
      "text/html": "<div>\n<style scoped>\n    .dataframe tbody tr th:only-of-type {\n        vertical-align: middle;\n    }\n\n    .dataframe tbody tr th {\n        vertical-align: top;\n    }\n\n    .dataframe thead th {\n        text-align: right;\n    }\n</style>\n<table border=\"1\" class=\"dataframe\">\n  <thead>\n    <tr style=\"text-align: right;\">\n      <th></th>\n      <th>offer_title</th>\n      <th>offer_type</th>\n      <th>offer_type_of_building</th>\n      <th>market</th>\n      <th>city_name</th>\n      <th>voivodeship</th>\n      <th>month</th>\n    </tr>\n  </thead>\n  <tbody>\n    <tr>\n      <th>count</th>\n      <td>61246</td>\n      <td>61246</td>\n      <td>61246</td>\n      <td>61246</td>\n      <td>61246</td>\n      <td>61246</td>\n      <td>61246</td>\n    </tr>\n    <tr>\n      <th>unique</th>\n      <td>28489</td>\n      <td>2</td>\n      <td>5</td>\n      <td>2</td>\n      <td>609</td>\n      <td>16</td>\n      <td>3</td>\n    </tr>\n    <tr>\n      <th>top</th>\n      <td>Sprzedam mieszkanie</td>\n      <td>Private</td>\n      <td>Housing Block</td>\n      <td>aftermarket</td>\n      <td>Warszawa</td>\n      <td>Masovia</td>\n      <td>March</td>\n    </tr>\n    <tr>\n      <th>freq</th>\n      <td>1815</td>\n      <td>44476</td>\n      <td>43800</td>\n      <td>53944</td>\n      <td>4157</td>\n      <td>9042</td>\n      <td>21357</td>\n    </tr>\n  </tbody>\n</table>\n</div>"
     },
     "execution_count": 10,
     "metadata": {},
     "output_type": "execute_result"
    }
   ],
   "source": [
    "df_house.describe(include='object')  # wszystkie te ktore sa stringiem"
   ],
   "metadata": {
    "collapsed": false
   }
  },
  {
   "cell_type": "code",
   "execution_count": 11,
   "outputs": [
    {
     "data": {
      "text/plain": "                                             offer_title         price  \\\n51970          Leśniczówka - nowe mieszkania na sprzedaż   5800.000000   \n9281           Leśniczówka - nowe mieszkania na sprzedaż   5500.000000   \n30052  Park Chopina | 34-62 m2 | 1-3 pokoje | taras-b...   6200.000000   \n45585                             Mieszkania na parterze 285000.000000   \n56266  M-3 z loggią, 50,53 m2, pierwsze piętro, os. S... 265000.000000   \n...                                                  ...           ...   \n27663                    Mieszkanie 52m2 parter. Północ. 320000.000000   \n38482                    Mieszkanie 52m2 parter. Północ. 320000.000000   \n19465         Kawalerka pod klucz/Gotowiec inwestycyjny! 342020.000000   \n9169          Kawalerka pod klucz/Gotowiec inwestycyjny! 342020.000000   \n61548  SPRZEDAM mieszkanie 58m2 + piwnica 11m2. Zamkn... 399000.000000   \n\n       price_per_meter     offer_type    floor          area  rooms  \\\n51970      5800.000000  Estate Agency 3.000000      1.000000      1   \n9281       5500.000000  Estate Agency 3.000000      1.000000      1   \n30052      6200.000000  Estate Agency 3.000000      1.000000      1   \n45585    285000.000000  Estate Agency 0.000000      1.000000      2   \n56266    265000.000000  Estate Agency 1.000000      1.000000      2   \n...                ...            ...      ...           ...    ...   \n27663         1.000000        Private 0.000000 320000.000000      3   \n38482         1.000000        Private 0.000000 320000.000000      3   \n19465         1.000000  Estate Agency 2.000000 342020.000000      1   \n9169          1.000000  Estate Agency 2.000000 342020.000000      1   \n61548         1.000000        Private 2.000000 399000.000000      3   \n\n      offer_type_of_building       market            city_name  \\\n51970          Housing Block      primary              Świdwin   \n9281           Housing Block      primary              Świdwin   \n30052          Housing Block      primary  Tomaszów Mazowiecki   \n45585          Housing Block  aftermarket                Sanok   \n56266          Housing Block  aftermarket             Żyrardów   \n...                      ...          ...                  ...   \n27663          Housing Block  aftermarket              Suwałki   \n38482          Housing Block  aftermarket              Suwałki   \n19465     Apartment Building      primary              Wrocław   \n9169      Apartment Building      primary              Wrocław   \n61548          Housing Block  aftermarket             Nowogard   \n\n          voivodeship     month  year  population  longitude  latitude  \n51970  West Pomerania     March  2022       15725  15.777351 53.774704  \n9281   West Pomerania   January  2022       15725  15.777351 53.774704  \n30052         Lodzkie  February  2022       64893  20.008419 51.531692  \n45585    Subcarpathia     March  2022       39027  22.207028 49.560905  \n56266         Masovia     March  2022       41096  20.443501 52.054331  \n...               ...       ...   ...         ...        ...       ...  \n27663       Podlaskie  February  2022       69317  22.927936 54.099064  \n38482       Podlaskie  February  2022       69317  22.927936 54.099064  \n19465   Lower Silesia  February  2022      634487  17.032669 51.108978  \n9169    Lower Silesia   January  2022      634487  17.032669 51.108978  \n61548  West Pomerania     March  2022       16937  15.122589 53.668770  \n\n[61246 rows x 16 columns]",
      "text/html": "<div>\n<style scoped>\n    .dataframe tbody tr th:only-of-type {\n        vertical-align: middle;\n    }\n\n    .dataframe tbody tr th {\n        vertical-align: top;\n    }\n\n    .dataframe thead th {\n        text-align: right;\n    }\n</style>\n<table border=\"1\" class=\"dataframe\">\n  <thead>\n    <tr style=\"text-align: right;\">\n      <th></th>\n      <th>offer_title</th>\n      <th>price</th>\n      <th>price_per_meter</th>\n      <th>offer_type</th>\n      <th>floor</th>\n      <th>area</th>\n      <th>rooms</th>\n      <th>offer_type_of_building</th>\n      <th>market</th>\n      <th>city_name</th>\n      <th>voivodeship</th>\n      <th>month</th>\n      <th>year</th>\n      <th>population</th>\n      <th>longitude</th>\n      <th>latitude</th>\n    </tr>\n  </thead>\n  <tbody>\n    <tr>\n      <th>51970</th>\n      <td>Leśniczówka - nowe mieszkania na sprzedaż</td>\n      <td>5800.000000</td>\n      <td>5800.000000</td>\n      <td>Estate Agency</td>\n      <td>3.000000</td>\n      <td>1.000000</td>\n      <td>1</td>\n      <td>Housing Block</td>\n      <td>primary</td>\n      <td>Świdwin</td>\n      <td>West Pomerania</td>\n      <td>March</td>\n      <td>2022</td>\n      <td>15725</td>\n      <td>15.777351</td>\n      <td>53.774704</td>\n    </tr>\n    <tr>\n      <th>9281</th>\n      <td>Leśniczówka - nowe mieszkania na sprzedaż</td>\n      <td>5500.000000</td>\n      <td>5500.000000</td>\n      <td>Estate Agency</td>\n      <td>3.000000</td>\n      <td>1.000000</td>\n      <td>1</td>\n      <td>Housing Block</td>\n      <td>primary</td>\n      <td>Świdwin</td>\n      <td>West Pomerania</td>\n      <td>January</td>\n      <td>2022</td>\n      <td>15725</td>\n      <td>15.777351</td>\n      <td>53.774704</td>\n    </tr>\n    <tr>\n      <th>30052</th>\n      <td>Park Chopina | 34-62 m2 | 1-3 pokoje | taras-b...</td>\n      <td>6200.000000</td>\n      <td>6200.000000</td>\n      <td>Estate Agency</td>\n      <td>3.000000</td>\n      <td>1.000000</td>\n      <td>1</td>\n      <td>Housing Block</td>\n      <td>primary</td>\n      <td>Tomaszów Mazowiecki</td>\n      <td>Lodzkie</td>\n      <td>February</td>\n      <td>2022</td>\n      <td>64893</td>\n      <td>20.008419</td>\n      <td>51.531692</td>\n    </tr>\n    <tr>\n      <th>45585</th>\n      <td>Mieszkania na parterze</td>\n      <td>285000.000000</td>\n      <td>285000.000000</td>\n      <td>Estate Agency</td>\n      <td>0.000000</td>\n      <td>1.000000</td>\n      <td>2</td>\n      <td>Housing Block</td>\n      <td>aftermarket</td>\n      <td>Sanok</td>\n      <td>Subcarpathia</td>\n      <td>March</td>\n      <td>2022</td>\n      <td>39027</td>\n      <td>22.207028</td>\n      <td>49.560905</td>\n    </tr>\n    <tr>\n      <th>56266</th>\n      <td>M-3 z loggią, 50,53 m2, pierwsze piętro, os. S...</td>\n      <td>265000.000000</td>\n      <td>265000.000000</td>\n      <td>Estate Agency</td>\n      <td>1.000000</td>\n      <td>1.000000</td>\n      <td>2</td>\n      <td>Housing Block</td>\n      <td>aftermarket</td>\n      <td>Żyrardów</td>\n      <td>Masovia</td>\n      <td>March</td>\n      <td>2022</td>\n      <td>41096</td>\n      <td>20.443501</td>\n      <td>52.054331</td>\n    </tr>\n    <tr>\n      <th>...</th>\n      <td>...</td>\n      <td>...</td>\n      <td>...</td>\n      <td>...</td>\n      <td>...</td>\n      <td>...</td>\n      <td>...</td>\n      <td>...</td>\n      <td>...</td>\n      <td>...</td>\n      <td>...</td>\n      <td>...</td>\n      <td>...</td>\n      <td>...</td>\n      <td>...</td>\n      <td>...</td>\n    </tr>\n    <tr>\n      <th>27663</th>\n      <td>Mieszkanie 52m2 parter. Północ.</td>\n      <td>320000.000000</td>\n      <td>1.000000</td>\n      <td>Private</td>\n      <td>0.000000</td>\n      <td>320000.000000</td>\n      <td>3</td>\n      <td>Housing Block</td>\n      <td>aftermarket</td>\n      <td>Suwałki</td>\n      <td>Podlaskie</td>\n      <td>February</td>\n      <td>2022</td>\n      <td>69317</td>\n      <td>22.927936</td>\n      <td>54.099064</td>\n    </tr>\n    <tr>\n      <th>38482</th>\n      <td>Mieszkanie 52m2 parter. Północ.</td>\n      <td>320000.000000</td>\n      <td>1.000000</td>\n      <td>Private</td>\n      <td>0.000000</td>\n      <td>320000.000000</td>\n      <td>3</td>\n      <td>Housing Block</td>\n      <td>aftermarket</td>\n      <td>Suwałki</td>\n      <td>Podlaskie</td>\n      <td>February</td>\n      <td>2022</td>\n      <td>69317</td>\n      <td>22.927936</td>\n      <td>54.099064</td>\n    </tr>\n    <tr>\n      <th>19465</th>\n      <td>Kawalerka pod klucz/Gotowiec inwestycyjny!</td>\n      <td>342020.000000</td>\n      <td>1.000000</td>\n      <td>Estate Agency</td>\n      <td>2.000000</td>\n      <td>342020.000000</td>\n      <td>1</td>\n      <td>Apartment Building</td>\n      <td>primary</td>\n      <td>Wrocław</td>\n      <td>Lower Silesia</td>\n      <td>February</td>\n      <td>2022</td>\n      <td>634487</td>\n      <td>17.032669</td>\n      <td>51.108978</td>\n    </tr>\n    <tr>\n      <th>9169</th>\n      <td>Kawalerka pod klucz/Gotowiec inwestycyjny!</td>\n      <td>342020.000000</td>\n      <td>1.000000</td>\n      <td>Estate Agency</td>\n      <td>2.000000</td>\n      <td>342020.000000</td>\n      <td>1</td>\n      <td>Apartment Building</td>\n      <td>primary</td>\n      <td>Wrocław</td>\n      <td>Lower Silesia</td>\n      <td>January</td>\n      <td>2022</td>\n      <td>634487</td>\n      <td>17.032669</td>\n      <td>51.108978</td>\n    </tr>\n    <tr>\n      <th>61548</th>\n      <td>SPRZEDAM mieszkanie 58m2 + piwnica 11m2. Zamkn...</td>\n      <td>399000.000000</td>\n      <td>1.000000</td>\n      <td>Private</td>\n      <td>2.000000</td>\n      <td>399000.000000</td>\n      <td>3</td>\n      <td>Housing Block</td>\n      <td>aftermarket</td>\n      <td>Nowogard</td>\n      <td>West Pomerania</td>\n      <td>March</td>\n      <td>2022</td>\n      <td>16937</td>\n      <td>15.122589</td>\n      <td>53.668770</td>\n    </tr>\n  </tbody>\n</table>\n<p>61246 rows × 16 columns</p>\n</div>"
     },
     "execution_count": 11,
     "metadata": {},
     "output_type": "execute_result"
    }
   ],
   "source": [
    "df_house.sort_values('area')  #filtrowanie odstawjacych wartosci"
   ],
   "metadata": {
    "collapsed": false
   }
  },
  {
   "cell_type": "code",
   "execution_count": 12,
   "outputs": [
    {
     "data": {
      "text/plain": "                                             offer_title         price  \\\n61548  SPRZEDAM mieszkanie 58m2 + piwnica 11m2. Zamkn... 399000.000000   \n9169          Kawalerka pod klucz/Gotowiec inwestycyjny! 342020.000000   \n19465         Kawalerka pod klucz/Gotowiec inwestycyjny! 342020.000000   \n27663                    Mieszkanie 52m2 parter. Północ. 320000.000000   \n38482                    Mieszkanie 52m2 parter. Północ. 320000.000000   \n...                                                  ...           ...   \n34405  M- 3 z loggią 50.53 m2, 1 piętro, oś. Spółdzie... 285000.000000   \n34608                             Mieszkania na parterze 285000.000000   \n38238  M-4 z balkonem 63 m2,  drugie piętro w Housing... 389000.000000   \n10931  M-2 z balkonem 32,50 m2, parter os. Spółdzielcza. 229000.000000   \n9281           Leśniczówka - nowe mieszkania na sprzedaż   5500.000000   \n\n       price_per_meter     offer_type    floor          area  rooms  \\\n61548         1.000000        Private 2.000000 399000.000000      3   \n9169          1.000000  Estate Agency 2.000000 342020.000000      1   \n19465         1.000000  Estate Agency 2.000000 342020.000000      1   \n27663         1.000000        Private 0.000000 320000.000000      3   \n38482         1.000000        Private 0.000000 320000.000000      3   \n...                ...            ...      ...           ...    ...   \n34405    285000.000000  Estate Agency 1.000000      1.000000      2   \n34608    285000.000000  Estate Agency 0.000000      1.000000      2   \n38238    389000.000000  Estate Agency 2.000000      1.000000      3   \n10931    229000.000000  Estate Agency 0.000000      1.000000      1   \n9281       5500.000000  Estate Agency 3.000000      1.000000      1   \n\n      offer_type_of_building       market city_name     voivodeship     month  \\\n61548          Housing Block  aftermarket  Nowogard  West Pomerania     March   \n9169      Apartment Building      primary   Wrocław   Lower Silesia   January   \n19465     Apartment Building      primary   Wrocław   Lower Silesia  February   \n27663          Housing Block  aftermarket   Suwałki       Podlaskie  February   \n38482          Housing Block  aftermarket   Suwałki       Podlaskie  February   \n...                      ...          ...       ...             ...       ...   \n34405          Housing Block  aftermarket  Żyrardów         Masovia  February   \n34608          Housing Block  aftermarket     Sanok    Subcarpathia  February   \n38238          Housing Block  aftermarket  Żyrardów         Masovia  February   \n10931          Housing Block  aftermarket  Żyrardów         Masovia   January   \n9281           Housing Block      primary   Świdwin  West Pomerania   January   \n\n       year  population  longitude  latitude  \n61548  2022       16937  15.122589 53.668770  \n9169   2022      634487  17.032669 51.108978  \n19465  2022      634487  17.032669 51.108978  \n27663  2022       69317  22.927936 54.099064  \n38482  2022       69317  22.927936 54.099064  \n...     ...         ...        ...       ...  \n34405  2022       41096  20.443501 52.054331  \n34608  2022       39027  22.207028 49.560905  \n38238  2022       41096  20.443501 52.054331  \n10931  2022       41096  20.443501 52.054331  \n9281   2022       15725  15.777351 53.774704  \n\n[61246 rows x 16 columns]",
      "text/html": "<div>\n<style scoped>\n    .dataframe tbody tr th:only-of-type {\n        vertical-align: middle;\n    }\n\n    .dataframe tbody tr th {\n        vertical-align: top;\n    }\n\n    .dataframe thead th {\n        text-align: right;\n    }\n</style>\n<table border=\"1\" class=\"dataframe\">\n  <thead>\n    <tr style=\"text-align: right;\">\n      <th></th>\n      <th>offer_title</th>\n      <th>price</th>\n      <th>price_per_meter</th>\n      <th>offer_type</th>\n      <th>floor</th>\n      <th>area</th>\n      <th>rooms</th>\n      <th>offer_type_of_building</th>\n      <th>market</th>\n      <th>city_name</th>\n      <th>voivodeship</th>\n      <th>month</th>\n      <th>year</th>\n      <th>population</th>\n      <th>longitude</th>\n      <th>latitude</th>\n    </tr>\n  </thead>\n  <tbody>\n    <tr>\n      <th>61548</th>\n      <td>SPRZEDAM mieszkanie 58m2 + piwnica 11m2. Zamkn...</td>\n      <td>399000.000000</td>\n      <td>1.000000</td>\n      <td>Private</td>\n      <td>2.000000</td>\n      <td>399000.000000</td>\n      <td>3</td>\n      <td>Housing Block</td>\n      <td>aftermarket</td>\n      <td>Nowogard</td>\n      <td>West Pomerania</td>\n      <td>March</td>\n      <td>2022</td>\n      <td>16937</td>\n      <td>15.122589</td>\n      <td>53.668770</td>\n    </tr>\n    <tr>\n      <th>9169</th>\n      <td>Kawalerka pod klucz/Gotowiec inwestycyjny!</td>\n      <td>342020.000000</td>\n      <td>1.000000</td>\n      <td>Estate Agency</td>\n      <td>2.000000</td>\n      <td>342020.000000</td>\n      <td>1</td>\n      <td>Apartment Building</td>\n      <td>primary</td>\n      <td>Wrocław</td>\n      <td>Lower Silesia</td>\n      <td>January</td>\n      <td>2022</td>\n      <td>634487</td>\n      <td>17.032669</td>\n      <td>51.108978</td>\n    </tr>\n    <tr>\n      <th>19465</th>\n      <td>Kawalerka pod klucz/Gotowiec inwestycyjny!</td>\n      <td>342020.000000</td>\n      <td>1.000000</td>\n      <td>Estate Agency</td>\n      <td>2.000000</td>\n      <td>342020.000000</td>\n      <td>1</td>\n      <td>Apartment Building</td>\n      <td>primary</td>\n      <td>Wrocław</td>\n      <td>Lower Silesia</td>\n      <td>February</td>\n      <td>2022</td>\n      <td>634487</td>\n      <td>17.032669</td>\n      <td>51.108978</td>\n    </tr>\n    <tr>\n      <th>27663</th>\n      <td>Mieszkanie 52m2 parter. Północ.</td>\n      <td>320000.000000</td>\n      <td>1.000000</td>\n      <td>Private</td>\n      <td>0.000000</td>\n      <td>320000.000000</td>\n      <td>3</td>\n      <td>Housing Block</td>\n      <td>aftermarket</td>\n      <td>Suwałki</td>\n      <td>Podlaskie</td>\n      <td>February</td>\n      <td>2022</td>\n      <td>69317</td>\n      <td>22.927936</td>\n      <td>54.099064</td>\n    </tr>\n    <tr>\n      <th>38482</th>\n      <td>Mieszkanie 52m2 parter. Północ.</td>\n      <td>320000.000000</td>\n      <td>1.000000</td>\n      <td>Private</td>\n      <td>0.000000</td>\n      <td>320000.000000</td>\n      <td>3</td>\n      <td>Housing Block</td>\n      <td>aftermarket</td>\n      <td>Suwałki</td>\n      <td>Podlaskie</td>\n      <td>February</td>\n      <td>2022</td>\n      <td>69317</td>\n      <td>22.927936</td>\n      <td>54.099064</td>\n    </tr>\n    <tr>\n      <th>...</th>\n      <td>...</td>\n      <td>...</td>\n      <td>...</td>\n      <td>...</td>\n      <td>...</td>\n      <td>...</td>\n      <td>...</td>\n      <td>...</td>\n      <td>...</td>\n      <td>...</td>\n      <td>...</td>\n      <td>...</td>\n      <td>...</td>\n      <td>...</td>\n      <td>...</td>\n      <td>...</td>\n    </tr>\n    <tr>\n      <th>34405</th>\n      <td>M- 3 z loggią 50.53 m2, 1 piętro, oś. Spółdzie...</td>\n      <td>285000.000000</td>\n      <td>285000.000000</td>\n      <td>Estate Agency</td>\n      <td>1.000000</td>\n      <td>1.000000</td>\n      <td>2</td>\n      <td>Housing Block</td>\n      <td>aftermarket</td>\n      <td>Żyrardów</td>\n      <td>Masovia</td>\n      <td>February</td>\n      <td>2022</td>\n      <td>41096</td>\n      <td>20.443501</td>\n      <td>52.054331</td>\n    </tr>\n    <tr>\n      <th>34608</th>\n      <td>Mieszkania na parterze</td>\n      <td>285000.000000</td>\n      <td>285000.000000</td>\n      <td>Estate Agency</td>\n      <td>0.000000</td>\n      <td>1.000000</td>\n      <td>2</td>\n      <td>Housing Block</td>\n      <td>aftermarket</td>\n      <td>Sanok</td>\n      <td>Subcarpathia</td>\n      <td>February</td>\n      <td>2022</td>\n      <td>39027</td>\n      <td>22.207028</td>\n      <td>49.560905</td>\n    </tr>\n    <tr>\n      <th>38238</th>\n      <td>M-4 z balkonem 63 m2,  drugie piętro w Housing...</td>\n      <td>389000.000000</td>\n      <td>389000.000000</td>\n      <td>Estate Agency</td>\n      <td>2.000000</td>\n      <td>1.000000</td>\n      <td>3</td>\n      <td>Housing Block</td>\n      <td>aftermarket</td>\n      <td>Żyrardów</td>\n      <td>Masovia</td>\n      <td>February</td>\n      <td>2022</td>\n      <td>41096</td>\n      <td>20.443501</td>\n      <td>52.054331</td>\n    </tr>\n    <tr>\n      <th>10931</th>\n      <td>M-2 z balkonem 32,50 m2, parter os. Spółdzielcza.</td>\n      <td>229000.000000</td>\n      <td>229000.000000</td>\n      <td>Estate Agency</td>\n      <td>0.000000</td>\n      <td>1.000000</td>\n      <td>1</td>\n      <td>Housing Block</td>\n      <td>aftermarket</td>\n      <td>Żyrardów</td>\n      <td>Masovia</td>\n      <td>January</td>\n      <td>2022</td>\n      <td>41096</td>\n      <td>20.443501</td>\n      <td>52.054331</td>\n    </tr>\n    <tr>\n      <th>9281</th>\n      <td>Leśniczówka - nowe mieszkania na sprzedaż</td>\n      <td>5500.000000</td>\n      <td>5500.000000</td>\n      <td>Estate Agency</td>\n      <td>3.000000</td>\n      <td>1.000000</td>\n      <td>1</td>\n      <td>Housing Block</td>\n      <td>primary</td>\n      <td>Świdwin</td>\n      <td>West Pomerania</td>\n      <td>January</td>\n      <td>2022</td>\n      <td>15725</td>\n      <td>15.777351</td>\n      <td>53.774704</td>\n    </tr>\n  </tbody>\n</table>\n<p>61246 rows × 16 columns</p>\n</div>"
     },
     "execution_count": 12,
     "metadata": {},
     "output_type": "execute_result"
    }
   ],
   "source": [
    "df_house.sort_values('area', ascending=False)"
   ],
   "metadata": {
    "collapsed": false
   }
  },
  {
   "cell_type": "code",
   "execution_count": 13,
   "outputs": [],
   "source": [
    "df_house = df_house[(df_house['area'] > 10) & (df_house['area'] < 300)]"
   ],
   "metadata": {
    "collapsed": false
   }
  },
  {
   "cell_type": "code",
   "execution_count": 14,
   "outputs": [
    {
     "data": {
      "text/plain": "                 price  price_per_meter        floor         area  \\\ncount     61080.000000     61080.000000 61080.000000 61080.000000   \nmean     397999.376660      7479.307711     2.400327    54.618497   \nstd     2049915.483421     36539.474692     2.149800    19.999295   \nmin           1.000000         0.020000    -1.000000    11.000000   \n25%      260000.000000      5264.170000     1.000000    42.000000   \n50%      345000.000000      6593.835000     2.000000    51.100000   \n75%      460000.000000      8775.510000     3.000000    63.000000   \nmax   504151616.000000   9002707.430000    11.000000   298.350000   \n\n             rooms         year     population    longitude     latitude  \ncount 61080.000000 61080.000000   61080.000000 61080.000000 61080.000000  \nmean      2.512083  2022.000000  314751.938621    19.157048    51.822036  \nstd       0.822945     0.000000  453117.737541     2.138816     1.323649  \nmin       1.000000  2022.000000    1328.000000    14.251070    49.296945  \n25%       2.000000  2022.000000   33967.000000    17.565228    50.687112  \n50%       2.000000  2022.000000  103997.000000    19.272156    51.768732  \n75%       3.000000  2022.000000  402465.000000    20.930831    52.847390  \nmax       4.000000  2022.000000 1744351.000000    23.887382    54.790132  ",
      "text/html": "<div>\n<style scoped>\n    .dataframe tbody tr th:only-of-type {\n        vertical-align: middle;\n    }\n\n    .dataframe tbody tr th {\n        vertical-align: top;\n    }\n\n    .dataframe thead th {\n        text-align: right;\n    }\n</style>\n<table border=\"1\" class=\"dataframe\">\n  <thead>\n    <tr style=\"text-align: right;\">\n      <th></th>\n      <th>price</th>\n      <th>price_per_meter</th>\n      <th>floor</th>\n      <th>area</th>\n      <th>rooms</th>\n      <th>year</th>\n      <th>population</th>\n      <th>longitude</th>\n      <th>latitude</th>\n    </tr>\n  </thead>\n  <tbody>\n    <tr>\n      <th>count</th>\n      <td>61080.000000</td>\n      <td>61080.000000</td>\n      <td>61080.000000</td>\n      <td>61080.000000</td>\n      <td>61080.000000</td>\n      <td>61080.000000</td>\n      <td>61080.000000</td>\n      <td>61080.000000</td>\n      <td>61080.000000</td>\n    </tr>\n    <tr>\n      <th>mean</th>\n      <td>397999.376660</td>\n      <td>7479.307711</td>\n      <td>2.400327</td>\n      <td>54.618497</td>\n      <td>2.512083</td>\n      <td>2022.000000</td>\n      <td>314751.938621</td>\n      <td>19.157048</td>\n      <td>51.822036</td>\n    </tr>\n    <tr>\n      <th>std</th>\n      <td>2049915.483421</td>\n      <td>36539.474692</td>\n      <td>2.149800</td>\n      <td>19.999295</td>\n      <td>0.822945</td>\n      <td>0.000000</td>\n      <td>453117.737541</td>\n      <td>2.138816</td>\n      <td>1.323649</td>\n    </tr>\n    <tr>\n      <th>min</th>\n      <td>1.000000</td>\n      <td>0.020000</td>\n      <td>-1.000000</td>\n      <td>11.000000</td>\n      <td>1.000000</td>\n      <td>2022.000000</td>\n      <td>1328.000000</td>\n      <td>14.251070</td>\n      <td>49.296945</td>\n    </tr>\n    <tr>\n      <th>25%</th>\n      <td>260000.000000</td>\n      <td>5264.170000</td>\n      <td>1.000000</td>\n      <td>42.000000</td>\n      <td>2.000000</td>\n      <td>2022.000000</td>\n      <td>33967.000000</td>\n      <td>17.565228</td>\n      <td>50.687112</td>\n    </tr>\n    <tr>\n      <th>50%</th>\n      <td>345000.000000</td>\n      <td>6593.835000</td>\n      <td>2.000000</td>\n      <td>51.100000</td>\n      <td>2.000000</td>\n      <td>2022.000000</td>\n      <td>103997.000000</td>\n      <td>19.272156</td>\n      <td>51.768732</td>\n    </tr>\n    <tr>\n      <th>75%</th>\n      <td>460000.000000</td>\n      <td>8775.510000</td>\n      <td>3.000000</td>\n      <td>63.000000</td>\n      <td>3.000000</td>\n      <td>2022.000000</td>\n      <td>402465.000000</td>\n      <td>20.930831</td>\n      <td>52.847390</td>\n    </tr>\n    <tr>\n      <th>max</th>\n      <td>504151616.000000</td>\n      <td>9002707.430000</td>\n      <td>11.000000</td>\n      <td>298.350000</td>\n      <td>4.000000</td>\n      <td>2022.000000</td>\n      <td>1744351.000000</td>\n      <td>23.887382</td>\n      <td>54.790132</td>\n    </tr>\n  </tbody>\n</table>\n</div>"
     },
     "execution_count": 14,
     "metadata": {},
     "output_type": "execute_result"
    }
   ],
   "source": [
    "df_house.describe()"
   ],
   "metadata": {
    "collapsed": false
   }
  },
  {
   "cell_type": "code",
   "execution_count": 15,
   "outputs": [
    {
     "data": {
      "text/plain": "                                             offer_title            price  \\\n30315         Mieszkanie Warka 45 m2 Odstąpię rezerwację         1.000000   \n40287                Sprzedm tanio... bez pośredników...         4.000000   \n40379  OKAZJA. Tylko 246 tys. zł. Nieruchomość na mie...       246.000000   \n404                          Dam odstępne za mieszkanie!       100.000000   \n2054                                  Zamiana Mieszkania       123.000000   \n...                                                  ...              ...   \n51502  Komfortowy,wyjątkowy apart.108m2,wyposażony,ul...   4500000.000000   \n35588                            Mieszkanie do sprzedaży   2800000.000000   \n29663                    4 pokojowe mieszkanie w slupsku   4440000.000000   \n52100                         Sprzedam mieszkanie -cesja   6580000.000000   \n36199      Okazja Pogodno 56 mkw z ogródkiem tylko u nas 504151616.000000   \n\n       price_per_meter     offer_type    floor       area  rooms  \\\n30315         0.020000        Private 3.000000  45.000000      2   \n40287         0.060000        Private 2.000000  62.000000      4   \n40379         1.760000  Estate Agency 0.000000 140.000000      4   \n404           2.000000        Private 1.000000  50.000000      2   \n2054          2.730000        Private 2.000000  45.000000      2   \n...                ...            ...      ...        ...    ...   \n51502     41666.670000  Estate Agency 4.000000 108.000000      4   \n35588     53742.800000        Private 2.000000  52.100000      2   \n29663     60000.000000        Private 4.000000  74.000000      4   \n52100    149545.450000        Private 1.000000  44.000000      2   \n36199   9002707.430000  Estate Agency 1.000000  56.000000      2   \n\n      offer_type_of_building       market         city_name     voivodeship  \\\n30315     Apartment Building      primary             Warka         Masovia   \n40287          Housing Block  aftermarket           Siedlce         Masovia   \n40379                  Other  aftermarket  Kędzierzyn-Koźle           Opole   \n404            Housing Block      primary            Zabrze         Silesia   \n2054           Housing Block  aftermarket       Lądek-Zdrój   Lower Silesia   \n...                      ...          ...               ...             ...   \n51502     Apartment Building  aftermarket            Gdańsk       Pomerania   \n35588               Tenement  aftermarket         Biskupiec  Warmia-Masuria   \n29663          Housing Block  aftermarket            Słupsk       Pomerania   \n52100          Housing Block      primary            Kraków   Lesser Poland   \n36199          Housing Block  aftermarket          Szczecin  West Pomerania   \n\n          month  year  population  longitude  latitude  \n30315  February  2022       11727  21.183384 51.785097  \n40287  February  2022       77102  22.276514 52.166375  \n40379  February  2022       63194  18.210959 50.344884  \n404     January  2022      178357  18.786375 50.308615  \n2054    January  2022        5917  16.872595 50.345825  \n...         ...   ...         ...        ...       ...  \n51502     March  2022      461935  18.654023 54.348291  \n35588  February  2022       10626  20.955180 53.868800  \n29663  February  2022       93936  17.028073 54.464933  \n52100     March  2022      762508  19.936856 50.061947  \n36199  February  2022      402465  14.550962 53.430182  \n\n[61080 rows x 16 columns]",
      "text/html": "<div>\n<style scoped>\n    .dataframe tbody tr th:only-of-type {\n        vertical-align: middle;\n    }\n\n    .dataframe tbody tr th {\n        vertical-align: top;\n    }\n\n    .dataframe thead th {\n        text-align: right;\n    }\n</style>\n<table border=\"1\" class=\"dataframe\">\n  <thead>\n    <tr style=\"text-align: right;\">\n      <th></th>\n      <th>offer_title</th>\n      <th>price</th>\n      <th>price_per_meter</th>\n      <th>offer_type</th>\n      <th>floor</th>\n      <th>area</th>\n      <th>rooms</th>\n      <th>offer_type_of_building</th>\n      <th>market</th>\n      <th>city_name</th>\n      <th>voivodeship</th>\n      <th>month</th>\n      <th>year</th>\n      <th>population</th>\n      <th>longitude</th>\n      <th>latitude</th>\n    </tr>\n  </thead>\n  <tbody>\n    <tr>\n      <th>30315</th>\n      <td>Mieszkanie Warka 45 m2 Odstąpię rezerwację</td>\n      <td>1.000000</td>\n      <td>0.020000</td>\n      <td>Private</td>\n      <td>3.000000</td>\n      <td>45.000000</td>\n      <td>2</td>\n      <td>Apartment Building</td>\n      <td>primary</td>\n      <td>Warka</td>\n      <td>Masovia</td>\n      <td>February</td>\n      <td>2022</td>\n      <td>11727</td>\n      <td>21.183384</td>\n      <td>51.785097</td>\n    </tr>\n    <tr>\n      <th>40287</th>\n      <td>Sprzedm tanio... bez pośredników...</td>\n      <td>4.000000</td>\n      <td>0.060000</td>\n      <td>Private</td>\n      <td>2.000000</td>\n      <td>62.000000</td>\n      <td>4</td>\n      <td>Housing Block</td>\n      <td>aftermarket</td>\n      <td>Siedlce</td>\n      <td>Masovia</td>\n      <td>February</td>\n      <td>2022</td>\n      <td>77102</td>\n      <td>22.276514</td>\n      <td>52.166375</td>\n    </tr>\n    <tr>\n      <th>40379</th>\n      <td>OKAZJA. Tylko 246 tys. zł. Nieruchomość na mie...</td>\n      <td>246.000000</td>\n      <td>1.760000</td>\n      <td>Estate Agency</td>\n      <td>0.000000</td>\n      <td>140.000000</td>\n      <td>4</td>\n      <td>Other</td>\n      <td>aftermarket</td>\n      <td>Kędzierzyn-Koźle</td>\n      <td>Opole</td>\n      <td>February</td>\n      <td>2022</td>\n      <td>63194</td>\n      <td>18.210959</td>\n      <td>50.344884</td>\n    </tr>\n    <tr>\n      <th>404</th>\n      <td>Dam odstępne za mieszkanie!</td>\n      <td>100.000000</td>\n      <td>2.000000</td>\n      <td>Private</td>\n      <td>1.000000</td>\n      <td>50.000000</td>\n      <td>2</td>\n      <td>Housing Block</td>\n      <td>primary</td>\n      <td>Zabrze</td>\n      <td>Silesia</td>\n      <td>January</td>\n      <td>2022</td>\n      <td>178357</td>\n      <td>18.786375</td>\n      <td>50.308615</td>\n    </tr>\n    <tr>\n      <th>2054</th>\n      <td>Zamiana Mieszkania</td>\n      <td>123.000000</td>\n      <td>2.730000</td>\n      <td>Private</td>\n      <td>2.000000</td>\n      <td>45.000000</td>\n      <td>2</td>\n      <td>Housing Block</td>\n      <td>aftermarket</td>\n      <td>Lądek-Zdrój</td>\n      <td>Lower Silesia</td>\n      <td>January</td>\n      <td>2022</td>\n      <td>5917</td>\n      <td>16.872595</td>\n      <td>50.345825</td>\n    </tr>\n    <tr>\n      <th>...</th>\n      <td>...</td>\n      <td>...</td>\n      <td>...</td>\n      <td>...</td>\n      <td>...</td>\n      <td>...</td>\n      <td>...</td>\n      <td>...</td>\n      <td>...</td>\n      <td>...</td>\n      <td>...</td>\n      <td>...</td>\n      <td>...</td>\n      <td>...</td>\n      <td>...</td>\n      <td>...</td>\n    </tr>\n    <tr>\n      <th>51502</th>\n      <td>Komfortowy,wyjątkowy apart.108m2,wyposażony,ul...</td>\n      <td>4500000.000000</td>\n      <td>41666.670000</td>\n      <td>Estate Agency</td>\n      <td>4.000000</td>\n      <td>108.000000</td>\n      <td>4</td>\n      <td>Apartment Building</td>\n      <td>aftermarket</td>\n      <td>Gdańsk</td>\n      <td>Pomerania</td>\n      <td>March</td>\n      <td>2022</td>\n      <td>461935</td>\n      <td>18.654023</td>\n      <td>54.348291</td>\n    </tr>\n    <tr>\n      <th>35588</th>\n      <td>Mieszkanie do sprzedaży</td>\n      <td>2800000.000000</td>\n      <td>53742.800000</td>\n      <td>Private</td>\n      <td>2.000000</td>\n      <td>52.100000</td>\n      <td>2</td>\n      <td>Tenement</td>\n      <td>aftermarket</td>\n      <td>Biskupiec</td>\n      <td>Warmia-Masuria</td>\n      <td>February</td>\n      <td>2022</td>\n      <td>10626</td>\n      <td>20.955180</td>\n      <td>53.868800</td>\n    </tr>\n    <tr>\n      <th>29663</th>\n      <td>4 pokojowe mieszkanie w slupsku</td>\n      <td>4440000.000000</td>\n      <td>60000.000000</td>\n      <td>Private</td>\n      <td>4.000000</td>\n      <td>74.000000</td>\n      <td>4</td>\n      <td>Housing Block</td>\n      <td>aftermarket</td>\n      <td>Słupsk</td>\n      <td>Pomerania</td>\n      <td>February</td>\n      <td>2022</td>\n      <td>93936</td>\n      <td>17.028073</td>\n      <td>54.464933</td>\n    </tr>\n    <tr>\n      <th>52100</th>\n      <td>Sprzedam mieszkanie -cesja</td>\n      <td>6580000.000000</td>\n      <td>149545.450000</td>\n      <td>Private</td>\n      <td>1.000000</td>\n      <td>44.000000</td>\n      <td>2</td>\n      <td>Housing Block</td>\n      <td>primary</td>\n      <td>Kraków</td>\n      <td>Lesser Poland</td>\n      <td>March</td>\n      <td>2022</td>\n      <td>762508</td>\n      <td>19.936856</td>\n      <td>50.061947</td>\n    </tr>\n    <tr>\n      <th>36199</th>\n      <td>Okazja Pogodno 56 mkw z ogródkiem tylko u nas</td>\n      <td>504151616.000000</td>\n      <td>9002707.430000</td>\n      <td>Estate Agency</td>\n      <td>1.000000</td>\n      <td>56.000000</td>\n      <td>2</td>\n      <td>Housing Block</td>\n      <td>aftermarket</td>\n      <td>Szczecin</td>\n      <td>West Pomerania</td>\n      <td>February</td>\n      <td>2022</td>\n      <td>402465</td>\n      <td>14.550962</td>\n      <td>53.430182</td>\n    </tr>\n  </tbody>\n</table>\n<p>61080 rows × 16 columns</p>\n</div>"
     },
     "execution_count": 15,
     "metadata": {},
     "output_type": "execute_result"
    }
   ],
   "source": [
    "df_house.sort_values('price_per_meter')"
   ],
   "metadata": {
    "collapsed": false
   }
  },
  {
   "cell_type": "code",
   "execution_count": 16,
   "outputs": [
    {
     "data": {
      "text/plain": "                                             offer_title            price  \\\n36199      Okazja Pogodno 56 mkw z ogródkiem tylko u nas 504151616.000000   \n52100                         Sprzedam mieszkanie -cesja   6580000.000000   \n29663                    4 pokojowe mieszkanie w slupsku   4440000.000000   \n35588                            Mieszkanie do sprzedaży   2800000.000000   \n51502  Komfortowy,wyjątkowy apart.108m2,wyposażony,ul...   4500000.000000   \n...                                                  ...              ...   \n2054                                  Zamiana Mieszkania       123.000000   \n404                          Dam odstępne za mieszkanie!       100.000000   \n40379  OKAZJA. Tylko 246 tys. zł. Nieruchomość na mie...       246.000000   \n40287                Sprzedm tanio... bez pośredników...         4.000000   \n30315         Mieszkanie Warka 45 m2 Odstąpię rezerwację         1.000000   \n\n       price_per_meter     offer_type    floor       area  rooms  \\\n36199   9002707.430000  Estate Agency 1.000000  56.000000      2   \n52100    149545.450000        Private 1.000000  44.000000      2   \n29663     60000.000000        Private 4.000000  74.000000      4   \n35588     53742.800000        Private 2.000000  52.100000      2   \n51502     41666.670000  Estate Agency 4.000000 108.000000      4   \n...                ...            ...      ...        ...    ...   \n2054          2.730000        Private 2.000000  45.000000      2   \n404           2.000000        Private 1.000000  50.000000      2   \n40379         1.760000  Estate Agency 0.000000 140.000000      4   \n40287         0.060000        Private 2.000000  62.000000      4   \n30315         0.020000        Private 3.000000  45.000000      2   \n\n      offer_type_of_building       market         city_name     voivodeship  \\\n36199          Housing Block  aftermarket          Szczecin  West Pomerania   \n52100          Housing Block      primary            Kraków   Lesser Poland   \n29663          Housing Block  aftermarket            Słupsk       Pomerania   \n35588               Tenement  aftermarket         Biskupiec  Warmia-Masuria   \n51502     Apartment Building  aftermarket            Gdańsk       Pomerania   \n...                      ...          ...               ...             ...   \n2054           Housing Block  aftermarket       Lądek-Zdrój   Lower Silesia   \n404            Housing Block      primary            Zabrze         Silesia   \n40379                  Other  aftermarket  Kędzierzyn-Koźle           Opole   \n40287          Housing Block  aftermarket           Siedlce         Masovia   \n30315     Apartment Building      primary             Warka         Masovia   \n\n          month  year  population  longitude  latitude  \n36199  February  2022      402465  14.550962 53.430182  \n52100     March  2022      762508  19.936856 50.061947  \n29663  February  2022       93936  17.028073 54.464933  \n35588  February  2022       10626  20.955180 53.868800  \n51502     March  2022      461935  18.654023 54.348291  \n...         ...   ...         ...        ...       ...  \n2054    January  2022        5917  16.872595 50.345825  \n404     January  2022      178357  18.786375 50.308615  \n40379  February  2022       63194  18.210959 50.344884  \n40287  February  2022       77102  22.276514 52.166375  \n30315  February  2022       11727  21.183384 51.785097  \n\n[61080 rows x 16 columns]",
      "text/html": "<div>\n<style scoped>\n    .dataframe tbody tr th:only-of-type {\n        vertical-align: middle;\n    }\n\n    .dataframe tbody tr th {\n        vertical-align: top;\n    }\n\n    .dataframe thead th {\n        text-align: right;\n    }\n</style>\n<table border=\"1\" class=\"dataframe\">\n  <thead>\n    <tr style=\"text-align: right;\">\n      <th></th>\n      <th>offer_title</th>\n      <th>price</th>\n      <th>price_per_meter</th>\n      <th>offer_type</th>\n      <th>floor</th>\n      <th>area</th>\n      <th>rooms</th>\n      <th>offer_type_of_building</th>\n      <th>market</th>\n      <th>city_name</th>\n      <th>voivodeship</th>\n      <th>month</th>\n      <th>year</th>\n      <th>population</th>\n      <th>longitude</th>\n      <th>latitude</th>\n    </tr>\n  </thead>\n  <tbody>\n    <tr>\n      <th>36199</th>\n      <td>Okazja Pogodno 56 mkw z ogródkiem tylko u nas</td>\n      <td>504151616.000000</td>\n      <td>9002707.430000</td>\n      <td>Estate Agency</td>\n      <td>1.000000</td>\n      <td>56.000000</td>\n      <td>2</td>\n      <td>Housing Block</td>\n      <td>aftermarket</td>\n      <td>Szczecin</td>\n      <td>West Pomerania</td>\n      <td>February</td>\n      <td>2022</td>\n      <td>402465</td>\n      <td>14.550962</td>\n      <td>53.430182</td>\n    </tr>\n    <tr>\n      <th>52100</th>\n      <td>Sprzedam mieszkanie -cesja</td>\n      <td>6580000.000000</td>\n      <td>149545.450000</td>\n      <td>Private</td>\n      <td>1.000000</td>\n      <td>44.000000</td>\n      <td>2</td>\n      <td>Housing Block</td>\n      <td>primary</td>\n      <td>Kraków</td>\n      <td>Lesser Poland</td>\n      <td>March</td>\n      <td>2022</td>\n      <td>762508</td>\n      <td>19.936856</td>\n      <td>50.061947</td>\n    </tr>\n    <tr>\n      <th>29663</th>\n      <td>4 pokojowe mieszkanie w slupsku</td>\n      <td>4440000.000000</td>\n      <td>60000.000000</td>\n      <td>Private</td>\n      <td>4.000000</td>\n      <td>74.000000</td>\n      <td>4</td>\n      <td>Housing Block</td>\n      <td>aftermarket</td>\n      <td>Słupsk</td>\n      <td>Pomerania</td>\n      <td>February</td>\n      <td>2022</td>\n      <td>93936</td>\n      <td>17.028073</td>\n      <td>54.464933</td>\n    </tr>\n    <tr>\n      <th>35588</th>\n      <td>Mieszkanie do sprzedaży</td>\n      <td>2800000.000000</td>\n      <td>53742.800000</td>\n      <td>Private</td>\n      <td>2.000000</td>\n      <td>52.100000</td>\n      <td>2</td>\n      <td>Tenement</td>\n      <td>aftermarket</td>\n      <td>Biskupiec</td>\n      <td>Warmia-Masuria</td>\n      <td>February</td>\n      <td>2022</td>\n      <td>10626</td>\n      <td>20.955180</td>\n      <td>53.868800</td>\n    </tr>\n    <tr>\n      <th>51502</th>\n      <td>Komfortowy,wyjątkowy apart.108m2,wyposażony,ul...</td>\n      <td>4500000.000000</td>\n      <td>41666.670000</td>\n      <td>Estate Agency</td>\n      <td>4.000000</td>\n      <td>108.000000</td>\n      <td>4</td>\n      <td>Apartment Building</td>\n      <td>aftermarket</td>\n      <td>Gdańsk</td>\n      <td>Pomerania</td>\n      <td>March</td>\n      <td>2022</td>\n      <td>461935</td>\n      <td>18.654023</td>\n      <td>54.348291</td>\n    </tr>\n    <tr>\n      <th>...</th>\n      <td>...</td>\n      <td>...</td>\n      <td>...</td>\n      <td>...</td>\n      <td>...</td>\n      <td>...</td>\n      <td>...</td>\n      <td>...</td>\n      <td>...</td>\n      <td>...</td>\n      <td>...</td>\n      <td>...</td>\n      <td>...</td>\n      <td>...</td>\n      <td>...</td>\n      <td>...</td>\n    </tr>\n    <tr>\n      <th>2054</th>\n      <td>Zamiana Mieszkania</td>\n      <td>123.000000</td>\n      <td>2.730000</td>\n      <td>Private</td>\n      <td>2.000000</td>\n      <td>45.000000</td>\n      <td>2</td>\n      <td>Housing Block</td>\n      <td>aftermarket</td>\n      <td>Lądek-Zdrój</td>\n      <td>Lower Silesia</td>\n      <td>January</td>\n      <td>2022</td>\n      <td>5917</td>\n      <td>16.872595</td>\n      <td>50.345825</td>\n    </tr>\n    <tr>\n      <th>404</th>\n      <td>Dam odstępne za mieszkanie!</td>\n      <td>100.000000</td>\n      <td>2.000000</td>\n      <td>Private</td>\n      <td>1.000000</td>\n      <td>50.000000</td>\n      <td>2</td>\n      <td>Housing Block</td>\n      <td>primary</td>\n      <td>Zabrze</td>\n      <td>Silesia</td>\n      <td>January</td>\n      <td>2022</td>\n      <td>178357</td>\n      <td>18.786375</td>\n      <td>50.308615</td>\n    </tr>\n    <tr>\n      <th>40379</th>\n      <td>OKAZJA. Tylko 246 tys. zł. Nieruchomość na mie...</td>\n      <td>246.000000</td>\n      <td>1.760000</td>\n      <td>Estate Agency</td>\n      <td>0.000000</td>\n      <td>140.000000</td>\n      <td>4</td>\n      <td>Other</td>\n      <td>aftermarket</td>\n      <td>Kędzierzyn-Koźle</td>\n      <td>Opole</td>\n      <td>February</td>\n      <td>2022</td>\n      <td>63194</td>\n      <td>18.210959</td>\n      <td>50.344884</td>\n    </tr>\n    <tr>\n      <th>40287</th>\n      <td>Sprzedm tanio... bez pośredników...</td>\n      <td>4.000000</td>\n      <td>0.060000</td>\n      <td>Private</td>\n      <td>2.000000</td>\n      <td>62.000000</td>\n      <td>4</td>\n      <td>Housing Block</td>\n      <td>aftermarket</td>\n      <td>Siedlce</td>\n      <td>Masovia</td>\n      <td>February</td>\n      <td>2022</td>\n      <td>77102</td>\n      <td>22.276514</td>\n      <td>52.166375</td>\n    </tr>\n    <tr>\n      <th>30315</th>\n      <td>Mieszkanie Warka 45 m2 Odstąpię rezerwację</td>\n      <td>1.000000</td>\n      <td>0.020000</td>\n      <td>Private</td>\n      <td>3.000000</td>\n      <td>45.000000</td>\n      <td>2</td>\n      <td>Apartment Building</td>\n      <td>primary</td>\n      <td>Warka</td>\n      <td>Masovia</td>\n      <td>February</td>\n      <td>2022</td>\n      <td>11727</td>\n      <td>21.183384</td>\n      <td>51.785097</td>\n    </tr>\n  </tbody>\n</table>\n<p>61080 rows × 16 columns</p>\n</div>"
     },
     "execution_count": 16,
     "metadata": {},
     "output_type": "execute_result"
    }
   ],
   "source": [
    "df_house.sort_values('price_per_meter', ascending=False)"
   ],
   "metadata": {
    "collapsed": false
   }
  },
  {
   "cell_type": "code",
   "execution_count": 17,
   "outputs": [],
   "source": [
    "df_house = df_house[(df_house['price_per_meter'] >= 500) & (df_house['price_per_meter'] <= 60000)]"
   ],
   "metadata": {
    "collapsed": false
   }
  },
  {
   "cell_type": "code",
   "execution_count": 18,
   "outputs": [
    {
     "data": {
      "text/plain": "               price  price_per_meter        floor         area        rooms  \\\ncount   60949.000000     60949.000000 60949.000000 60949.000000 60949.000000   \nmean   390451.656523      7344.831985     2.401795    54.611485     2.512248   \nstd    215658.612943      3154.063691     2.150440    19.970497     0.823062   \nmin      9500.000000       500.000000    -1.000000    11.000000     1.000000   \n25%    261000.000000      5277.640000     1.000000    42.000000     2.000000   \n50%    345000.000000      6600.000000     2.000000    51.100000     2.000000   \n75%    460000.000000      8781.560000     3.000000    63.000000     3.000000   \nmax   5400000.000000     60000.000000    11.000000   298.350000     4.000000   \n\n              year     population    longitude     latitude  \ncount 60949.000000   60949.000000 60949.000000 60949.000000  \nmean   2022.000000  314715.032929    19.157651    51.821801  \nstd       0.000000  453214.246585     2.138789     1.324088  \nmin    2022.000000    1328.000000    14.251070    49.296945  \n25%    2022.000000   33967.000000    17.561497    50.679307  \n50%    2022.000000  103997.000000    19.272156    51.768732  \n75%    2022.000000  402465.000000    20.930831    52.847390  \nmax    2022.000000 1744351.000000    23.887382    54.790132  ",
      "text/html": "<div>\n<style scoped>\n    .dataframe tbody tr th:only-of-type {\n        vertical-align: middle;\n    }\n\n    .dataframe tbody tr th {\n        vertical-align: top;\n    }\n\n    .dataframe thead th {\n        text-align: right;\n    }\n</style>\n<table border=\"1\" class=\"dataframe\">\n  <thead>\n    <tr style=\"text-align: right;\">\n      <th></th>\n      <th>price</th>\n      <th>price_per_meter</th>\n      <th>floor</th>\n      <th>area</th>\n      <th>rooms</th>\n      <th>year</th>\n      <th>population</th>\n      <th>longitude</th>\n      <th>latitude</th>\n    </tr>\n  </thead>\n  <tbody>\n    <tr>\n      <th>count</th>\n      <td>60949.000000</td>\n      <td>60949.000000</td>\n      <td>60949.000000</td>\n      <td>60949.000000</td>\n      <td>60949.000000</td>\n      <td>60949.000000</td>\n      <td>60949.000000</td>\n      <td>60949.000000</td>\n      <td>60949.000000</td>\n    </tr>\n    <tr>\n      <th>mean</th>\n      <td>390451.656523</td>\n      <td>7344.831985</td>\n      <td>2.401795</td>\n      <td>54.611485</td>\n      <td>2.512248</td>\n      <td>2022.000000</td>\n      <td>314715.032929</td>\n      <td>19.157651</td>\n      <td>51.821801</td>\n    </tr>\n    <tr>\n      <th>std</th>\n      <td>215658.612943</td>\n      <td>3154.063691</td>\n      <td>2.150440</td>\n      <td>19.970497</td>\n      <td>0.823062</td>\n      <td>0.000000</td>\n      <td>453214.246585</td>\n      <td>2.138789</td>\n      <td>1.324088</td>\n    </tr>\n    <tr>\n      <th>min</th>\n      <td>9500.000000</td>\n      <td>500.000000</td>\n      <td>-1.000000</td>\n      <td>11.000000</td>\n      <td>1.000000</td>\n      <td>2022.000000</td>\n      <td>1328.000000</td>\n      <td>14.251070</td>\n      <td>49.296945</td>\n    </tr>\n    <tr>\n      <th>25%</th>\n      <td>261000.000000</td>\n      <td>5277.640000</td>\n      <td>1.000000</td>\n      <td>42.000000</td>\n      <td>2.000000</td>\n      <td>2022.000000</td>\n      <td>33967.000000</td>\n      <td>17.561497</td>\n      <td>50.679307</td>\n    </tr>\n    <tr>\n      <th>50%</th>\n      <td>345000.000000</td>\n      <td>6600.000000</td>\n      <td>2.000000</td>\n      <td>51.100000</td>\n      <td>2.000000</td>\n      <td>2022.000000</td>\n      <td>103997.000000</td>\n      <td>19.272156</td>\n      <td>51.768732</td>\n    </tr>\n    <tr>\n      <th>75%</th>\n      <td>460000.000000</td>\n      <td>8781.560000</td>\n      <td>3.000000</td>\n      <td>63.000000</td>\n      <td>3.000000</td>\n      <td>2022.000000</td>\n      <td>402465.000000</td>\n      <td>20.930831</td>\n      <td>52.847390</td>\n    </tr>\n    <tr>\n      <th>max</th>\n      <td>5400000.000000</td>\n      <td>60000.000000</td>\n      <td>11.000000</td>\n      <td>298.350000</td>\n      <td>4.000000</td>\n      <td>2022.000000</td>\n      <td>1744351.000000</td>\n      <td>23.887382</td>\n      <td>54.790132</td>\n    </tr>\n  </tbody>\n</table>\n</div>"
     },
     "execution_count": 18,
     "metadata": {},
     "output_type": "execute_result"
    }
   ],
   "source": [
    "df_house.describe()"
   ],
   "metadata": {
    "collapsed": false
   }
  },
  {
   "cell_type": "code",
   "execution_count": 19,
   "outputs": [
    {
     "data": {
      "text/plain": "                                             offer_title          price  \\\n42436                    Mieszkanie w kamienicy Privatej    9500.000000   \n42447               Kawalerka za odstępne CENA OSTATECZA   10000.000000   \n42437                    Mieszkanie w kamienicy Privatej   11000.000000   \n1362                     Mieszkanie w kamienicy Privatej   12500.000000   \n1363                     Mieszkanie w kamienicy Privatej   12500.000000   \n...                                                  ...            ...   \n40176  ANGEL WAWEL ul.Sukiennicza - apartament dla Ko... 3999000.000000   \n29663                    4 pokojowe mieszkanie w slupsku 4440000.000000   \n51502  Komfortowy,wyjątkowy apart.108m2,wyposażony,ul... 4500000.000000   \n40474  Komfortowy,wyjątkowy apart.108m2,wyposażony,ul... 4500000.000000   \n62050           Kraków apartament w centrum ulica Sarego 5400000.000000   \n\n       price_per_meter     offer_type    floor       area  rooms  \\\n42436       527.780000  Estate Agency 2.000000  18.000000      1   \n42447       500.000000  Estate Agency 2.000000  20.000000      1   \n42437       733.330000  Estate Agency 2.000000  15.000000      1   \n1362        833.330000  Estate Agency 2.000000  15.000000      1   \n1363        694.440000  Estate Agency 2.000000  18.000000      1   \n...                ...            ...      ...        ...    ...   \n40176     25634.620000  Estate Agency 4.000000 156.000000      4   \n29663     60000.000000        Private 4.000000  74.000000      4   \n51502     41666.670000  Estate Agency 4.000000 108.000000      4   \n40474     41666.670000  Estate Agency 4.000000 108.000000      4   \n62050     20000.000000        Private 2.000000 270.000000      4   \n\n      offer_type_of_building       market city_name    voivodeship     month  \\\n42436               Tenement  aftermarket      Łódź        Lodzkie     March   \n42447               Tenement  aftermarket      Łódź        Lodzkie     March   \n42437               Tenement  aftermarket      Łódź        Lodzkie     March   \n1362                Tenement  aftermarket      Łódź        Lodzkie   January   \n1363                Tenement  aftermarket      Łódź        Lodzkie   January   \n...                      ...          ...       ...            ...       ...   \n40176     Apartment Building  aftermarket    Kraków  Lesser Poland  February   \n29663          Housing Block  aftermarket    Słupsk      Pomerania  February   \n51502     Apartment Building  aftermarket    Gdańsk      Pomerania     March   \n40474     Apartment Building  aftermarket    Gdańsk      Pomerania  February   \n62050               Tenement  aftermarket    Kraków  Lesser Poland     March   \n\n       year  population  longitude  latitude  \n42436  2022      711332  19.456991 51.768732  \n42447  2022      711332  19.456991 51.768732  \n42437  2022      711332  19.456991 51.768732  \n1362   2022      711332  19.456991 51.768732  \n1363   2022      711332  19.456991 51.768732  \n...     ...         ...        ...       ...  \n40176  2022      762508  19.936856 50.061947  \n29663  2022       93936  17.028073 54.464933  \n51502  2022      461935  18.654023 54.348291  \n40474  2022      461935  18.654023 54.348291  \n62050  2022      762508  19.936856 50.061947  \n\n[60949 rows x 16 columns]",
      "text/html": "<div>\n<style scoped>\n    .dataframe tbody tr th:only-of-type {\n        vertical-align: middle;\n    }\n\n    .dataframe tbody tr th {\n        vertical-align: top;\n    }\n\n    .dataframe thead th {\n        text-align: right;\n    }\n</style>\n<table border=\"1\" class=\"dataframe\">\n  <thead>\n    <tr style=\"text-align: right;\">\n      <th></th>\n      <th>offer_title</th>\n      <th>price</th>\n      <th>price_per_meter</th>\n      <th>offer_type</th>\n      <th>floor</th>\n      <th>area</th>\n      <th>rooms</th>\n      <th>offer_type_of_building</th>\n      <th>market</th>\n      <th>city_name</th>\n      <th>voivodeship</th>\n      <th>month</th>\n      <th>year</th>\n      <th>population</th>\n      <th>longitude</th>\n      <th>latitude</th>\n    </tr>\n  </thead>\n  <tbody>\n    <tr>\n      <th>42436</th>\n      <td>Mieszkanie w kamienicy Privatej</td>\n      <td>9500.000000</td>\n      <td>527.780000</td>\n      <td>Estate Agency</td>\n      <td>2.000000</td>\n      <td>18.000000</td>\n      <td>1</td>\n      <td>Tenement</td>\n      <td>aftermarket</td>\n      <td>Łódź</td>\n      <td>Lodzkie</td>\n      <td>March</td>\n      <td>2022</td>\n      <td>711332</td>\n      <td>19.456991</td>\n      <td>51.768732</td>\n    </tr>\n    <tr>\n      <th>42447</th>\n      <td>Kawalerka za odstępne CENA OSTATECZA</td>\n      <td>10000.000000</td>\n      <td>500.000000</td>\n      <td>Estate Agency</td>\n      <td>2.000000</td>\n      <td>20.000000</td>\n      <td>1</td>\n      <td>Tenement</td>\n      <td>aftermarket</td>\n      <td>Łódź</td>\n      <td>Lodzkie</td>\n      <td>March</td>\n      <td>2022</td>\n      <td>711332</td>\n      <td>19.456991</td>\n      <td>51.768732</td>\n    </tr>\n    <tr>\n      <th>42437</th>\n      <td>Mieszkanie w kamienicy Privatej</td>\n      <td>11000.000000</td>\n      <td>733.330000</td>\n      <td>Estate Agency</td>\n      <td>2.000000</td>\n      <td>15.000000</td>\n      <td>1</td>\n      <td>Tenement</td>\n      <td>aftermarket</td>\n      <td>Łódź</td>\n      <td>Lodzkie</td>\n      <td>March</td>\n      <td>2022</td>\n      <td>711332</td>\n      <td>19.456991</td>\n      <td>51.768732</td>\n    </tr>\n    <tr>\n      <th>1362</th>\n      <td>Mieszkanie w kamienicy Privatej</td>\n      <td>12500.000000</td>\n      <td>833.330000</td>\n      <td>Estate Agency</td>\n      <td>2.000000</td>\n      <td>15.000000</td>\n      <td>1</td>\n      <td>Tenement</td>\n      <td>aftermarket</td>\n      <td>Łódź</td>\n      <td>Lodzkie</td>\n      <td>January</td>\n      <td>2022</td>\n      <td>711332</td>\n      <td>19.456991</td>\n      <td>51.768732</td>\n    </tr>\n    <tr>\n      <th>1363</th>\n      <td>Mieszkanie w kamienicy Privatej</td>\n      <td>12500.000000</td>\n      <td>694.440000</td>\n      <td>Estate Agency</td>\n      <td>2.000000</td>\n      <td>18.000000</td>\n      <td>1</td>\n      <td>Tenement</td>\n      <td>aftermarket</td>\n      <td>Łódź</td>\n      <td>Lodzkie</td>\n      <td>January</td>\n      <td>2022</td>\n      <td>711332</td>\n      <td>19.456991</td>\n      <td>51.768732</td>\n    </tr>\n    <tr>\n      <th>...</th>\n      <td>...</td>\n      <td>...</td>\n      <td>...</td>\n      <td>...</td>\n      <td>...</td>\n      <td>...</td>\n      <td>...</td>\n      <td>...</td>\n      <td>...</td>\n      <td>...</td>\n      <td>...</td>\n      <td>...</td>\n      <td>...</td>\n      <td>...</td>\n      <td>...</td>\n      <td>...</td>\n    </tr>\n    <tr>\n      <th>40176</th>\n      <td>ANGEL WAWEL ul.Sukiennicza - apartament dla Ko...</td>\n      <td>3999000.000000</td>\n      <td>25634.620000</td>\n      <td>Estate Agency</td>\n      <td>4.000000</td>\n      <td>156.000000</td>\n      <td>4</td>\n      <td>Apartment Building</td>\n      <td>aftermarket</td>\n      <td>Kraków</td>\n      <td>Lesser Poland</td>\n      <td>February</td>\n      <td>2022</td>\n      <td>762508</td>\n      <td>19.936856</td>\n      <td>50.061947</td>\n    </tr>\n    <tr>\n      <th>29663</th>\n      <td>4 pokojowe mieszkanie w slupsku</td>\n      <td>4440000.000000</td>\n      <td>60000.000000</td>\n      <td>Private</td>\n      <td>4.000000</td>\n      <td>74.000000</td>\n      <td>4</td>\n      <td>Housing Block</td>\n      <td>aftermarket</td>\n      <td>Słupsk</td>\n      <td>Pomerania</td>\n      <td>February</td>\n      <td>2022</td>\n      <td>93936</td>\n      <td>17.028073</td>\n      <td>54.464933</td>\n    </tr>\n    <tr>\n      <th>51502</th>\n      <td>Komfortowy,wyjątkowy apart.108m2,wyposażony,ul...</td>\n      <td>4500000.000000</td>\n      <td>41666.670000</td>\n      <td>Estate Agency</td>\n      <td>4.000000</td>\n      <td>108.000000</td>\n      <td>4</td>\n      <td>Apartment Building</td>\n      <td>aftermarket</td>\n      <td>Gdańsk</td>\n      <td>Pomerania</td>\n      <td>March</td>\n      <td>2022</td>\n      <td>461935</td>\n      <td>18.654023</td>\n      <td>54.348291</td>\n    </tr>\n    <tr>\n      <th>40474</th>\n      <td>Komfortowy,wyjątkowy apart.108m2,wyposażony,ul...</td>\n      <td>4500000.000000</td>\n      <td>41666.670000</td>\n      <td>Estate Agency</td>\n      <td>4.000000</td>\n      <td>108.000000</td>\n      <td>4</td>\n      <td>Apartment Building</td>\n      <td>aftermarket</td>\n      <td>Gdańsk</td>\n      <td>Pomerania</td>\n      <td>February</td>\n      <td>2022</td>\n      <td>461935</td>\n      <td>18.654023</td>\n      <td>54.348291</td>\n    </tr>\n    <tr>\n      <th>62050</th>\n      <td>Kraków apartament w centrum ulica Sarego</td>\n      <td>5400000.000000</td>\n      <td>20000.000000</td>\n      <td>Private</td>\n      <td>2.000000</td>\n      <td>270.000000</td>\n      <td>4</td>\n      <td>Tenement</td>\n      <td>aftermarket</td>\n      <td>Kraków</td>\n      <td>Lesser Poland</td>\n      <td>March</td>\n      <td>2022</td>\n      <td>762508</td>\n      <td>19.936856</td>\n      <td>50.061947</td>\n    </tr>\n  </tbody>\n</table>\n<p>60949 rows × 16 columns</p>\n</div>"
     },
     "execution_count": 19,
     "metadata": {},
     "output_type": "execute_result"
    }
   ],
   "source": [
    "df_house.sort_values('price')"
   ],
   "metadata": {
    "collapsed": false
   }
  },
  {
   "cell_type": "code",
   "execution_count": 20,
   "outputs": [],
   "source": [
    "df_house = df_house[df_house['price'] > 100000]"
   ],
   "metadata": {
    "collapsed": false
   }
  },
  {
   "cell_type": "code",
   "execution_count": 21,
   "outputs": [
    {
     "data": {
      "text/plain": "               price  price_per_meter        floor         area        rooms  \\\ncount   60284.000000     60284.000000 60284.000000 60284.000000 60284.000000   \nmean   393944.255336      7399.996408     2.410673    54.793562     2.521432   \nstd    214235.198768      3123.650505     2.149366    19.899226     0.818816   \nmin    100500.000000       754.720000    -1.000000    11.000000     1.000000   \n25%    265000.000000      5316.670000     1.000000    42.257500     2.000000   \n50%    349000.000000      6627.910000     2.000000    51.425000     2.000000   \n75%    463080.000000      8819.165000     3.000000    63.000000     3.000000   \nmax   5400000.000000     60000.000000    11.000000   298.350000     4.000000   \n\n              year     population    longitude     latitude  \ncount 60284.000000   60284.000000 60284.000000 60284.000000  \nmean   2022.000000  315947.828694    19.162899    51.823947  \nstd       0.000000  454553.721331     2.140359     1.324105  \nmin    2022.000000    1328.000000    14.251070    49.296945  \n25%    2022.000000   34120.000000    17.565228    50.687112  \n50%    2022.000000  103997.000000    19.272156    51.768732  \n75%    2022.000000  402465.000000    20.930831    52.848462  \nmax    2022.000000 1744351.000000    23.887382    54.790132  ",
      "text/html": "<div>\n<style scoped>\n    .dataframe tbody tr th:only-of-type {\n        vertical-align: middle;\n    }\n\n    .dataframe tbody tr th {\n        vertical-align: top;\n    }\n\n    .dataframe thead th {\n        text-align: right;\n    }\n</style>\n<table border=\"1\" class=\"dataframe\">\n  <thead>\n    <tr style=\"text-align: right;\">\n      <th></th>\n      <th>price</th>\n      <th>price_per_meter</th>\n      <th>floor</th>\n      <th>area</th>\n      <th>rooms</th>\n      <th>year</th>\n      <th>population</th>\n      <th>longitude</th>\n      <th>latitude</th>\n    </tr>\n  </thead>\n  <tbody>\n    <tr>\n      <th>count</th>\n      <td>60284.000000</td>\n      <td>60284.000000</td>\n      <td>60284.000000</td>\n      <td>60284.000000</td>\n      <td>60284.000000</td>\n      <td>60284.000000</td>\n      <td>60284.000000</td>\n      <td>60284.000000</td>\n      <td>60284.000000</td>\n    </tr>\n    <tr>\n      <th>mean</th>\n      <td>393944.255336</td>\n      <td>7399.996408</td>\n      <td>2.410673</td>\n      <td>54.793562</td>\n      <td>2.521432</td>\n      <td>2022.000000</td>\n      <td>315947.828694</td>\n      <td>19.162899</td>\n      <td>51.823947</td>\n    </tr>\n    <tr>\n      <th>std</th>\n      <td>214235.198768</td>\n      <td>3123.650505</td>\n      <td>2.149366</td>\n      <td>19.899226</td>\n      <td>0.818816</td>\n      <td>0.000000</td>\n      <td>454553.721331</td>\n      <td>2.140359</td>\n      <td>1.324105</td>\n    </tr>\n    <tr>\n      <th>min</th>\n      <td>100500.000000</td>\n      <td>754.720000</td>\n      <td>-1.000000</td>\n      <td>11.000000</td>\n      <td>1.000000</td>\n      <td>2022.000000</td>\n      <td>1328.000000</td>\n      <td>14.251070</td>\n      <td>49.296945</td>\n    </tr>\n    <tr>\n      <th>25%</th>\n      <td>265000.000000</td>\n      <td>5316.670000</td>\n      <td>1.000000</td>\n      <td>42.257500</td>\n      <td>2.000000</td>\n      <td>2022.000000</td>\n      <td>34120.000000</td>\n      <td>17.565228</td>\n      <td>50.687112</td>\n    </tr>\n    <tr>\n      <th>50%</th>\n      <td>349000.000000</td>\n      <td>6627.910000</td>\n      <td>2.000000</td>\n      <td>51.425000</td>\n      <td>2.000000</td>\n      <td>2022.000000</td>\n      <td>103997.000000</td>\n      <td>19.272156</td>\n      <td>51.768732</td>\n    </tr>\n    <tr>\n      <th>75%</th>\n      <td>463080.000000</td>\n      <td>8819.165000</td>\n      <td>3.000000</td>\n      <td>63.000000</td>\n      <td>3.000000</td>\n      <td>2022.000000</td>\n      <td>402465.000000</td>\n      <td>20.930831</td>\n      <td>52.848462</td>\n    </tr>\n    <tr>\n      <th>max</th>\n      <td>5400000.000000</td>\n      <td>60000.000000</td>\n      <td>11.000000</td>\n      <td>298.350000</td>\n      <td>4.000000</td>\n      <td>2022.000000</td>\n      <td>1744351.000000</td>\n      <td>23.887382</td>\n      <td>54.790132</td>\n    </tr>\n  </tbody>\n</table>\n</div>"
     },
     "execution_count": 21,
     "metadata": {},
     "output_type": "execute_result"
    }
   ],
   "source": [
    "df_house.describe()"
   ],
   "metadata": {
    "collapsed": false
   }
  },
  {
   "cell_type": "code",
   "execution_count": 22,
   "outputs": [
    {
     "data": {
      "text/plain": "                                         offer_title         price  \\\n0                              Kawalerka na sprzedaż 240000.000000   \n1  Nowoczesna kawalerka z winda plus garaż podziemny 250000.000000   \n2        Nowa kawalerka z Balkonem/Legnicka/Magnolia 259000.000000   \n3  Kawalerka z balkonem/klucze I kwartał 2022/60 ... 269000.000000   \n4  40 tys. taniej od dewelopera/Kawalerka/Magnoli... 258000.000000   \n\n   price_per_meter     offer_type    floor      area  rooms  \\\n0      8888.890000        Private 1.000000 27.000000      1   \n1      7142.860000        Private 1.000000 35.000000      1   \n2     10360.000000  Estate Agency 2.000000 25.000000      1   \n3     10275.020000        Private 3.000000 26.180000      1   \n4      9923.080000  Estate Agency 3.000000 26.000000      1   \n\n  offer_type_of_building   market        city_name    voivodeship    month  \\\n0          Housing Block  primary      Bolesławiec  Lower Silesia  January   \n1          Housing Block  primary  Jelcz-Laskowice  Lower Silesia  January   \n2          Housing Block  primary          Wrocław  Lower Silesia  January   \n3     Apartment Building  primary          Wrocław  Lower Silesia  January   \n4          Housing Block  primary          Wrocław  Lower Silesia  January   \n\n   year  population  longitude  latitude  \n0  2022       39603  15.565105 51.263033  \n1  2022       15828  17.349964 51.039831  \n2  2022      634487  17.032669 51.108978  \n3  2022      634487  17.032669 51.108978  \n4  2022      634487  17.032669 51.108978  ",
      "text/html": "<div>\n<style scoped>\n    .dataframe tbody tr th:only-of-type {\n        vertical-align: middle;\n    }\n\n    .dataframe tbody tr th {\n        vertical-align: top;\n    }\n\n    .dataframe thead th {\n        text-align: right;\n    }\n</style>\n<table border=\"1\" class=\"dataframe\">\n  <thead>\n    <tr style=\"text-align: right;\">\n      <th></th>\n      <th>offer_title</th>\n      <th>price</th>\n      <th>price_per_meter</th>\n      <th>offer_type</th>\n      <th>floor</th>\n      <th>area</th>\n      <th>rooms</th>\n      <th>offer_type_of_building</th>\n      <th>market</th>\n      <th>city_name</th>\n      <th>voivodeship</th>\n      <th>month</th>\n      <th>year</th>\n      <th>population</th>\n      <th>longitude</th>\n      <th>latitude</th>\n    </tr>\n  </thead>\n  <tbody>\n    <tr>\n      <th>0</th>\n      <td>Kawalerka na sprzedaż</td>\n      <td>240000.000000</td>\n      <td>8888.890000</td>\n      <td>Private</td>\n      <td>1.000000</td>\n      <td>27.000000</td>\n      <td>1</td>\n      <td>Housing Block</td>\n      <td>primary</td>\n      <td>Bolesławiec</td>\n      <td>Lower Silesia</td>\n      <td>January</td>\n      <td>2022</td>\n      <td>39603</td>\n      <td>15.565105</td>\n      <td>51.263033</td>\n    </tr>\n    <tr>\n      <th>1</th>\n      <td>Nowoczesna kawalerka z winda plus garaż podziemny</td>\n      <td>250000.000000</td>\n      <td>7142.860000</td>\n      <td>Private</td>\n      <td>1.000000</td>\n      <td>35.000000</td>\n      <td>1</td>\n      <td>Housing Block</td>\n      <td>primary</td>\n      <td>Jelcz-Laskowice</td>\n      <td>Lower Silesia</td>\n      <td>January</td>\n      <td>2022</td>\n      <td>15828</td>\n      <td>17.349964</td>\n      <td>51.039831</td>\n    </tr>\n    <tr>\n      <th>2</th>\n      <td>Nowa kawalerka z Balkonem/Legnicka/Magnolia</td>\n      <td>259000.000000</td>\n      <td>10360.000000</td>\n      <td>Estate Agency</td>\n      <td>2.000000</td>\n      <td>25.000000</td>\n      <td>1</td>\n      <td>Housing Block</td>\n      <td>primary</td>\n      <td>Wrocław</td>\n      <td>Lower Silesia</td>\n      <td>January</td>\n      <td>2022</td>\n      <td>634487</td>\n      <td>17.032669</td>\n      <td>51.108978</td>\n    </tr>\n    <tr>\n      <th>3</th>\n      <td>Kawalerka z balkonem/klucze I kwartał 2022/60 ...</td>\n      <td>269000.000000</td>\n      <td>10275.020000</td>\n      <td>Private</td>\n      <td>3.000000</td>\n      <td>26.180000</td>\n      <td>1</td>\n      <td>Apartment Building</td>\n      <td>primary</td>\n      <td>Wrocław</td>\n      <td>Lower Silesia</td>\n      <td>January</td>\n      <td>2022</td>\n      <td>634487</td>\n      <td>17.032669</td>\n      <td>51.108978</td>\n    </tr>\n    <tr>\n      <th>4</th>\n      <td>40 tys. taniej od dewelopera/Kawalerka/Magnoli...</td>\n      <td>258000.000000</td>\n      <td>9923.080000</td>\n      <td>Estate Agency</td>\n      <td>3.000000</td>\n      <td>26.000000</td>\n      <td>1</td>\n      <td>Housing Block</td>\n      <td>primary</td>\n      <td>Wrocław</td>\n      <td>Lower Silesia</td>\n      <td>January</td>\n      <td>2022</td>\n      <td>634487</td>\n      <td>17.032669</td>\n      <td>51.108978</td>\n    </tr>\n  </tbody>\n</table>\n</div>"
     },
     "execution_count": 22,
     "metadata": {},
     "output_type": "execute_result"
    }
   ],
   "source": [
    "df_house.head()"
   ],
   "metadata": {
    "collapsed": false
   }
  },
  {
   "cell_type": "markdown",
   "source": [
    "### Eksploracja"
   ],
   "metadata": {
    "collapsed": false
   }
  },
  {
   "cell_type": "code",
   "execution_count": 23,
   "outputs": [
    {
     "data": {
      "text/plain": "offer_type\nPrivate          43871\nEstate Agency    16413\nName: count, dtype: int64"
     },
     "execution_count": 23,
     "metadata": {},
     "output_type": "execute_result"
    }
   ],
   "source": [
    "df_house['offer_type'].value_counts() # zliczanie po ofertach"
   ],
   "metadata": {
    "collapsed": false
   }
  },
  {
   "cell_type": "code",
   "execution_count": 24,
   "outputs": [
    {
     "data": {
      "text/plain": "offer_type_of_building\nHousing Block         43432\nTenement               8270\nApartment Building     6316\nOther                  2166\nLoft                    100\nName: count, dtype: int64"
     },
     "execution_count": 24,
     "metadata": {},
     "output_type": "execute_result"
    }
   ],
   "source": [
    "df_house['offer_type_of_building'].value_counts()"
   ],
   "metadata": {
    "collapsed": false
   }
  },
  {
   "cell_type": "code",
   "execution_count": 25,
   "outputs": [
    {
     "data": {
      "text/plain": "market\naftermarket    53107\nprimary         7177\nName: count, dtype: int64"
     },
     "execution_count": 25,
     "metadata": {},
     "output_type": "execute_result"
    }
   ],
   "source": [
    "df_house['market'].value_counts()"
   ],
   "metadata": {
    "collapsed": false
   }
  },
  {
   "cell_type": "code",
   "execution_count": 26,
   "outputs": [
    {
     "data": {
      "text/plain": "voivodeship\nMasovia              8967\nSilesia              7338\nLower Silesia        5545\nLodzkie              5506\nLesser Poland        4817\nGreater Poland       4353\nWest Pomerania       3666\nLublin               3322\nPomerania            3112\nKuyavia-Pomerania    3062\nWarmia-Masuria       2895\nSubcarpathia         1688\nŚwiętokrzyskie       1569\nPodlaskie            1509\nOpole                1468\nLubusz               1467\nName: count, dtype: int64"
     },
     "execution_count": 26,
     "metadata": {},
     "output_type": "execute_result"
    }
   ],
   "source": [
    "df_house['voivodeship'].value_counts()"
   ],
   "metadata": {
    "collapsed": false
   }
  },
  {
   "cell_type": "code",
   "execution_count": 27,
   "outputs": [
    {
     "data": {
      "text/plain": "price_per_meter\n5000.000000     483\n6000.000000     307\n10000.000000    266\n7000.000000     247\n7500.000000     237\n               ... \n8960.180000       1\n9190.710000       1\n9249.270000       1\n9795.920000       1\n4221.460000       1\nName: count, Length: 19000, dtype: int64"
     },
     "execution_count": 27,
     "metadata": {},
     "output_type": "execute_result"
    }
   ],
   "source": [
    "df_house['price_per_meter'].value_counts()"
   ],
   "metadata": {
    "collapsed": false
   }
  },
  {
   "cell_type": "code",
   "execution_count": 28,
   "outputs": [
    {
     "data": {
      "text/plain": "4288"
     },
     "execution_count": 28,
     "metadata": {},
     "output_type": "execute_result"
    }
   ],
   "source": [
    "df_house[df_house['area'] < 20].size #rozmiar"
   ],
   "metadata": {
    "collapsed": false
   }
  },
  {
   "cell_type": "code",
   "execution_count": 29,
   "outputs": [
    {
     "data": {
      "text/plain": "                                             offer_title         price  \\\n28     ROI 7,2% - piękna kawalerka  ul Słowiańska - i... 159000.000000   \n1330   Bezpośrednio od właściciela Apartament 24m2 Łó... 289000.000000   \n1331   Mieszkanie 1-pokojowe w rewitalizowanej Kamienicy 195000.000000   \n1333   kawalerka z C.O. w zrewitalizowanej kamienicy ... 170000.000000   \n1335   RENTAROOM.PL KAWALERKI INWESTYCYJNE super loka... 159000.000000   \n...                                                  ...           ...   \n53454            Kawalerka po remoncie niedaleko centrum 150000.000000   \n53455  Kawalerka 20 m2 bezczynszowa z miejscem parkin... 105000.000000   \n53457  Kawalerka 23 M2, sprzedam lub zamienię, pełna ... 120000.000000   \n55329  Dwupokojowe mieszkanie 10 min od Manufaktury i... 199000.000000   \n59196  RENTAROOM.PL KAWALERKI INWESTYCYJNE wynajęte,p... 149000.000000   \n\n       price_per_meter     offer_type    floor      area  rooms  \\\n28         9937.500000  Estate Agency 2.000000 16.000000      1   \n1330      12041.670000  Estate Agency 0.000000 24.000000      1   \n1331       9276.880000  Estate Agency 2.000000 21.020000      1   \n1333      10585.310000        Private 2.000000 16.060000      1   \n1335       7950.000000  Estate Agency 4.000000 20.000000      1   \n...                ...            ...      ...       ...    ...   \n53454      6521.740000        Private 1.000000 23.000000      1   \n53455      5250.000000        Private 1.000000 20.000000      1   \n53457      5217.390000        Private 2.000000 23.000000      1   \n55329      8291.670000        Private 1.000000 24.000000      2   \n59196      8277.780000  Estate Agency 3.000000 18.000000      3   \n\n      offer_type_of_building       market city_name voivodeship    month  \\\n28                  Tenement      primary      Łódź     Lodzkie  January   \n1330      Apartment Building  aftermarket      Łódź     Lodzkie  January   \n1331                Tenement  aftermarket      Łódź     Lodzkie  January   \n1333                Tenement  aftermarket      Łódź     Lodzkie  January   \n1335           Housing Block  aftermarket      Łódź     Lodzkie  January   \n...                      ...          ...       ...         ...      ...   \n53454               Tenement  aftermarket      Łódź     Lodzkie    March   \n53455               Tenement  aftermarket      Łódź     Lodzkie    March   \n53457               Tenement  aftermarket      Łódź     Lodzkie    March   \n55329               Tenement  aftermarket      Łódź     Lodzkie    March   \n59196          Housing Block  aftermarket      Łódź     Lodzkie    March   \n\n       year  population  longitude  latitude  \n28     2022      711332  19.456991 51.768732  \n1330   2022      711332  19.456991 51.768732  \n1331   2022      711332  19.456991 51.768732  \n1333   2022      711332  19.456991 51.768732  \n1335   2022      711332  19.456991 51.768732  \n...     ...         ...        ...       ...  \n53454  2022      711332  19.456991 51.768732  \n53455  2022      711332  19.456991 51.768732  \n53457  2022      711332  19.456991 51.768732  \n55329  2022      711332  19.456991 51.768732  \n59196  2022      711332  19.456991 51.768732  \n\n[122 rows x 16 columns]",
      "text/html": "<div>\n<style scoped>\n    .dataframe tbody tr th:only-of-type {\n        vertical-align: middle;\n    }\n\n    .dataframe tbody tr th {\n        vertical-align: top;\n    }\n\n    .dataframe thead th {\n        text-align: right;\n    }\n</style>\n<table border=\"1\" class=\"dataframe\">\n  <thead>\n    <tr style=\"text-align: right;\">\n      <th></th>\n      <th>offer_title</th>\n      <th>price</th>\n      <th>price_per_meter</th>\n      <th>offer_type</th>\n      <th>floor</th>\n      <th>area</th>\n      <th>rooms</th>\n      <th>offer_type_of_building</th>\n      <th>market</th>\n      <th>city_name</th>\n      <th>voivodeship</th>\n      <th>month</th>\n      <th>year</th>\n      <th>population</th>\n      <th>longitude</th>\n      <th>latitude</th>\n    </tr>\n  </thead>\n  <tbody>\n    <tr>\n      <th>28</th>\n      <td>ROI 7,2% - piękna kawalerka  ul Słowiańska - i...</td>\n      <td>159000.000000</td>\n      <td>9937.500000</td>\n      <td>Estate Agency</td>\n      <td>2.000000</td>\n      <td>16.000000</td>\n      <td>1</td>\n      <td>Tenement</td>\n      <td>primary</td>\n      <td>Łódź</td>\n      <td>Lodzkie</td>\n      <td>January</td>\n      <td>2022</td>\n      <td>711332</td>\n      <td>19.456991</td>\n      <td>51.768732</td>\n    </tr>\n    <tr>\n      <th>1330</th>\n      <td>Bezpośrednio od właściciela Apartament 24m2 Łó...</td>\n      <td>289000.000000</td>\n      <td>12041.670000</td>\n      <td>Estate Agency</td>\n      <td>0.000000</td>\n      <td>24.000000</td>\n      <td>1</td>\n      <td>Apartment Building</td>\n      <td>aftermarket</td>\n      <td>Łódź</td>\n      <td>Lodzkie</td>\n      <td>January</td>\n      <td>2022</td>\n      <td>711332</td>\n      <td>19.456991</td>\n      <td>51.768732</td>\n    </tr>\n    <tr>\n      <th>1331</th>\n      <td>Mieszkanie 1-pokojowe w rewitalizowanej Kamienicy</td>\n      <td>195000.000000</td>\n      <td>9276.880000</td>\n      <td>Estate Agency</td>\n      <td>2.000000</td>\n      <td>21.020000</td>\n      <td>1</td>\n      <td>Tenement</td>\n      <td>aftermarket</td>\n      <td>Łódź</td>\n      <td>Lodzkie</td>\n      <td>January</td>\n      <td>2022</td>\n      <td>711332</td>\n      <td>19.456991</td>\n      <td>51.768732</td>\n    </tr>\n    <tr>\n      <th>1333</th>\n      <td>kawalerka z C.O. w zrewitalizowanej kamienicy ...</td>\n      <td>170000.000000</td>\n      <td>10585.310000</td>\n      <td>Private</td>\n      <td>2.000000</td>\n      <td>16.060000</td>\n      <td>1</td>\n      <td>Tenement</td>\n      <td>aftermarket</td>\n      <td>Łódź</td>\n      <td>Lodzkie</td>\n      <td>January</td>\n      <td>2022</td>\n      <td>711332</td>\n      <td>19.456991</td>\n      <td>51.768732</td>\n    </tr>\n    <tr>\n      <th>1335</th>\n      <td>RENTAROOM.PL KAWALERKI INWESTYCYJNE super loka...</td>\n      <td>159000.000000</td>\n      <td>7950.000000</td>\n      <td>Estate Agency</td>\n      <td>4.000000</td>\n      <td>20.000000</td>\n      <td>1</td>\n      <td>Housing Block</td>\n      <td>aftermarket</td>\n      <td>Łódź</td>\n      <td>Lodzkie</td>\n      <td>January</td>\n      <td>2022</td>\n      <td>711332</td>\n      <td>19.456991</td>\n      <td>51.768732</td>\n    </tr>\n    <tr>\n      <th>...</th>\n      <td>...</td>\n      <td>...</td>\n      <td>...</td>\n      <td>...</td>\n      <td>...</td>\n      <td>...</td>\n      <td>...</td>\n      <td>...</td>\n      <td>...</td>\n      <td>...</td>\n      <td>...</td>\n      <td>...</td>\n      <td>...</td>\n      <td>...</td>\n      <td>...</td>\n      <td>...</td>\n    </tr>\n    <tr>\n      <th>53454</th>\n      <td>Kawalerka po remoncie niedaleko centrum</td>\n      <td>150000.000000</td>\n      <td>6521.740000</td>\n      <td>Private</td>\n      <td>1.000000</td>\n      <td>23.000000</td>\n      <td>1</td>\n      <td>Tenement</td>\n      <td>aftermarket</td>\n      <td>Łódź</td>\n      <td>Lodzkie</td>\n      <td>March</td>\n      <td>2022</td>\n      <td>711332</td>\n      <td>19.456991</td>\n      <td>51.768732</td>\n    </tr>\n    <tr>\n      <th>53455</th>\n      <td>Kawalerka 20 m2 bezczynszowa z miejscem parkin...</td>\n      <td>105000.000000</td>\n      <td>5250.000000</td>\n      <td>Private</td>\n      <td>1.000000</td>\n      <td>20.000000</td>\n      <td>1</td>\n      <td>Tenement</td>\n      <td>aftermarket</td>\n      <td>Łódź</td>\n      <td>Lodzkie</td>\n      <td>March</td>\n      <td>2022</td>\n      <td>711332</td>\n      <td>19.456991</td>\n      <td>51.768732</td>\n    </tr>\n    <tr>\n      <th>53457</th>\n      <td>Kawalerka 23 M2, sprzedam lub zamienię, pełna ...</td>\n      <td>120000.000000</td>\n      <td>5217.390000</td>\n      <td>Private</td>\n      <td>2.000000</td>\n      <td>23.000000</td>\n      <td>1</td>\n      <td>Tenement</td>\n      <td>aftermarket</td>\n      <td>Łódź</td>\n      <td>Lodzkie</td>\n      <td>March</td>\n      <td>2022</td>\n      <td>711332</td>\n      <td>19.456991</td>\n      <td>51.768732</td>\n    </tr>\n    <tr>\n      <th>55329</th>\n      <td>Dwupokojowe mieszkanie 10 min od Manufaktury i...</td>\n      <td>199000.000000</td>\n      <td>8291.670000</td>\n      <td>Private</td>\n      <td>1.000000</td>\n      <td>24.000000</td>\n      <td>2</td>\n      <td>Tenement</td>\n      <td>aftermarket</td>\n      <td>Łódź</td>\n      <td>Lodzkie</td>\n      <td>March</td>\n      <td>2022</td>\n      <td>711332</td>\n      <td>19.456991</td>\n      <td>51.768732</td>\n    </tr>\n    <tr>\n      <th>59196</th>\n      <td>RENTAROOM.PL KAWALERKI INWESTYCYJNE wynajęte,p...</td>\n      <td>149000.000000</td>\n      <td>8277.780000</td>\n      <td>Estate Agency</td>\n      <td>3.000000</td>\n      <td>18.000000</td>\n      <td>3</td>\n      <td>Housing Block</td>\n      <td>aftermarket</td>\n      <td>Łódź</td>\n      <td>Lodzkie</td>\n      <td>March</td>\n      <td>2022</td>\n      <td>711332</td>\n      <td>19.456991</td>\n      <td>51.768732</td>\n    </tr>\n  </tbody>\n</table>\n<p>122 rows × 16 columns</p>\n</div>"
     },
     "execution_count": 29,
     "metadata": {},
     "output_type": "execute_result"
    }
   ],
   "source": [
    "df_house[(df_house['city_name'] == 'Łódź') & (df_house['area'] > 10) & (df_house['area'] < 25)]"
   ],
   "metadata": {
    "collapsed": false
   }
  },
  {
   "cell_type": "code",
   "execution_count": 30,
   "outputs": [
    {
     "data": {
      "text/plain": "rooms\n1    117\n3      4\n2      1\nName: count, dtype: int64"
     },
     "execution_count": 30,
     "metadata": {},
     "output_type": "execute_result"
    }
   ],
   "source": [
    "df_house[(df_house['city_name'] == 'Łódź') & (df_house['area'] > 10) & (df_house['area'] < 25)]['rooms'].value_counts()"
   ],
   "metadata": {
    "collapsed": false
   }
  },
  {
   "cell_type": "code",
   "execution_count": 31,
   "outputs": [
    {
     "data": {
      "text/plain": "voivodeship\nLesser Poland       10135.952929\nMasovia              9808.708781\nPomerania            8588.348493\nLower Silesia        7452.596601\nWest Pomerania       7441.510603\nPodlaskie            7387.802247\nLublin               7025.416162\nGreater Poland       6587.782601\nLodzkie              6584.301922\nSubcarpathia         6332.433945\nKuyavia-Pomerania    6293.707071\nWarmia-Masuria       6176.245900\nŚwiętokrzyskie       5903.865041\nSilesia              5727.584846\nLubusz               5385.675085\nOpole                5135.934114\nName: price_per_meter, dtype: float64"
     },
     "execution_count": 31,
     "metadata": {},
     "output_type": "execute_result"
    }
   ],
   "source": [
    "df_house.groupby('voivodeship')['price_per_meter'].mean().sort_values(ascending=False) #grupowanie po wojew biorac price usrednienie i sortowanie malejace"
   ],
   "metadata": {
    "collapsed": false
   }
  },
  {
   "cell_type": "code",
   "execution_count": 32,
   "outputs": [
    {
     "data": {
      "text/plain": "city_name\nZakopane           19346.825882\nMiędzyzdroje       15190.517187\nSzklarska Poręba   15015.033750\nSopot              14822.978734\nSzczyrk            14614.364737\n                       ...     \nZiębice             2539.542308\nKorfantów           2469.140000\nPrzedbórz           2325.580000\nOtmuchów            2192.904000\nMałomice            1529.914000\nName: price_per_meter, Length: 602, dtype: float64"
     },
     "execution_count": 32,
     "metadata": {},
     "output_type": "execute_result"
    }
   ],
   "source": [
    "df_house.groupby('city_name')['price_per_meter'].mean().sort_values(ascending=False)"
   ],
   "metadata": {
    "collapsed": false
   }
  },
  {
   "cell_type": "code",
   "execution_count": 34,
   "outputs": [
    {
     "data": {
      "text/plain": "voivodeship        market     \nGreater Poland     aftermarket    6655.275512\n                   primary        6303.423246\nKuyavia-Pomerania  aftermarket    6255.999811\n                   primary        6712.361976\nLesser Poland      aftermarket   10152.521190\n                   primary       10022.538599\nLodzkie            aftermarket    6559.316748\n                   primary        6796.503586\nLower Silesia      aftermarket    7402.620742\n                   primary        7834.265810\nLublin             aftermarket    7047.316122\n                   primary        6828.842643\nLubusz             aftermarket    5368.506356\n                   primary        5613.035728\nMasovia            aftermarket    9890.772004\n                   primary        9177.728479\nOpole              aftermarket    5089.379536\n                   primary        5607.122879\nPodlaskie          aftermarket    7350.901833\n                   primary        7707.842372\nPomerania          aftermarket    8701.964774\n                   primary        7896.557335\nSilesia            aftermarket    5558.370836\n                   primary        6883.549498\nSubcarpathia       aftermarket    6295.235425\n                   primary        6603.034951\nWarmia-Masuria     aftermarket    6183.171264\n                   primary        6101.003525\nWest Pomerania     aftermarket    7375.936454\n                   primary        7959.419053\nŚwiętokrzyskie     aftermarket    5790.210787\n                   primary        6473.442682\nName: price_per_meter, dtype: float64"
     },
     "execution_count": 34,
     "metadata": {},
     "output_type": "execute_result"
    }
   ],
   "source": [
    "df_house.groupby(['voivodeship','market'])['price_per_meter'].mean()"
   ],
   "metadata": {
    "collapsed": false
   }
  },
  {
   "cell_type": "code",
   "execution_count": null,
   "outputs": [],
   "source": [],
   "metadata": {
    "collapsed": false
   }
  }
 ],
 "metadata": {
  "kernelspec": {
   "display_name": "Python 3",
   "language": "python",
   "name": "python3"
  },
  "language_info": {
   "codemirror_mode": {
    "name": "ipython",
    "version": 2
   },
   "file_extension": ".py",
   "mimetype": "text/x-python",
   "name": "python",
   "nbconvert_exporter": "python",
   "pygments_lexer": "ipython2",
   "version": "2.7.6"
  }
 },
 "nbformat": 4,
 "nbformat_minor": 0
}
