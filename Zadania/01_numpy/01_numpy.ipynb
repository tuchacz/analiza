{
 "cells": [
  {
   "cell_type": "markdown",
   "source": [
    "### Zadanie 1\n",
    "Wykonaj następujące polecenia za pomocą biblioteki NumPy."
   ],
   "metadata": {
    "collapsed": false
   },
   "id": "4b811a674b832779"
  },
  {
   "cell_type": "markdown",
   "source": [
    "Importuj bibliotekę NumPy"
   ],
   "metadata": {
    "collapsed": false
   },
   "id": "dcc1ce9f8129c19"
  },
  {
   "cell_type": "code",
   "execution_count": 2,
   "outputs": [],
   "source": [],
   "metadata": {
    "collapsed": false,
    "ExecuteTime": {
     "end_time": "2023-08-07T14:11:41.237849200Z",
     "start_time": "2023-08-07T14:11:41.223600300Z"
    }
   },
   "id": "3e27dd010c7d7b8e"
  },
  {
   "cell_type": "markdown",
   "source": [
    "Stwórz tablicę zawierającą 10 elementów o wartości 0"
   ],
   "metadata": {
    "collapsed": false
   },
   "id": "d655ba9e89f2eca9"
  },
  {
   "cell_type": "code",
   "execution_count": null,
   "outputs": [],
   "source": [],
   "metadata": {
    "collapsed": false
   },
   "id": "465fb59d5a7d636b"
  },
  {
   "cell_type": "code",
   "execution_count": 12,
   "outputs": [
    {
     "data": {
      "text/plain": "array([0., 0., 0., 0., 0., 0., 0., 0., 0., 0.])"
     },
     "execution_count": 12,
     "metadata": {},
     "output_type": "execute_result"
    }
   ],
   "source": [
    "######################################################################################"
   ],
   "metadata": {
    "collapsed": false,
    "ExecuteTime": {
     "end_time": "2023-08-07T14:17:35.876605100Z",
     "start_time": "2023-08-07T14:17:35.850067500Z"
    }
   },
   "id": "16240c56a67ee817"
  },
  {
   "cell_type": "markdown",
   "source": [
    "Stwórz tablicę zawierającą 10 elementów o wartości 1"
   ],
   "metadata": {
    "collapsed": false
   },
   "id": "432c57056b5fe1c8"
  },
  {
   "cell_type": "code",
   "execution_count": null,
   "outputs": [],
   "source": [],
   "metadata": {
    "collapsed": false
   },
   "id": "e858f32c471f2d1d"
  },
  {
   "cell_type": "code",
   "execution_count": 4,
   "outputs": [
    {
     "data": {
      "text/plain": "array([1., 1., 1., 1., 1., 1., 1., 1., 1., 1.])"
     },
     "execution_count": 4,
     "metadata": {},
     "output_type": "execute_result"
    }
   ],
   "source": [
    "######################################################################################"
   ],
   "metadata": {
    "collapsed": false,
    "ExecuteTime": {
     "end_time": "2023-08-07T14:12:12.225436200Z",
     "start_time": "2023-08-07T14:12:12.183521100Z"
    }
   },
   "id": "6e064f523b4de307"
  },
  {
   "cell_type": "markdown",
   "source": [
    "Stwórz tablicę zawierającą 10 elementów o wartości 2"
   ],
   "metadata": {
    "collapsed": false
   },
   "id": "dc5d4a6b2e6c7063"
  },
  {
   "cell_type": "code",
   "execution_count": null,
   "outputs": [],
   "source": [],
   "metadata": {
    "collapsed": false
   },
   "id": "e541e034730f3acb"
  },
  {
   "cell_type": "code",
   "execution_count": 5,
   "outputs": [
    {
     "data": {
      "text/plain": "array([2, 2, 2, 2, 2, 2, 2, 2, 2, 2])"
     },
     "execution_count": 5,
     "metadata": {},
     "output_type": "execute_result"
    }
   ],
   "source": [
    "######################################################################################"
   ],
   "metadata": {
    "collapsed": false,
    "ExecuteTime": {
     "end_time": "2023-08-07T14:13:10.398802Z",
     "start_time": "2023-08-07T14:13:10.364023Z"
    }
   },
   "id": "b40688d702d9ced4"
  },
  {
   "cell_type": "markdown",
   "source": [
    "Stwórz tablicę zawierającą elementy z zakresu od 20 do 40"
   ],
   "metadata": {
    "collapsed": false
   },
   "id": "75851f17a4e0efd7"
  },
  {
   "cell_type": "code",
   "execution_count": null,
   "outputs": [],
   "source": [],
   "metadata": {
    "collapsed": false
   },
   "id": "91b0ce20e6f4eea3"
  },
  {
   "cell_type": "code",
   "execution_count": 9,
   "outputs": [
    {
     "data": {
      "text/plain": "array([20, 21, 22, 23, 24, 25, 26, 27, 28, 29, 30, 31, 32, 33, 34, 35, 36,\n       37, 38, 39, 40])"
     },
     "execution_count": 9,
     "metadata": {},
     "output_type": "execute_result"
    }
   ],
   "source": [
    "######################################################################################"
   ],
   "metadata": {
    "collapsed": false,
    "ExecuteTime": {
     "end_time": "2023-08-07T14:16:37.346592500Z",
     "start_time": "2023-08-07T14:16:37.326473100Z"
    }
   },
   "id": "7e7dc3d4302cc308"
  },
  {
   "cell_type": "markdown",
   "source": [
    "Stwórz tablicę 2D 3x3 z wartościami od 1 do 9"
   ],
   "metadata": {
    "collapsed": false
   },
   "id": "bb3b40c06ddd6890"
  },
  {
   "cell_type": "code",
   "execution_count": null,
   "outputs": [],
   "source": [],
   "metadata": {
    "collapsed": false
   },
   "id": "82f5920b4b2ccb3f"
  },
  {
   "cell_type": "code",
   "execution_count": 10,
   "outputs": [
    {
     "data": {
      "text/plain": "array([[1, 2, 3],\n       [4, 5, 6],\n       [7, 8, 9]])"
     },
     "execution_count": 10,
     "metadata": {},
     "output_type": "execute_result"
    }
   ],
   "source": [
    "######################################################################################"
   ],
   "metadata": {
    "collapsed": false,
    "ExecuteTime": {
     "end_time": "2023-08-07T14:16:40.858563500Z",
     "start_time": "2023-08-07T14:16:40.846625300Z"
    }
   },
   "id": "820c4409e6e7f44e"
  },
  {
   "cell_type": "markdown",
   "source": [
    "Ustaw ziarno wartości losowej na 5"
   ],
   "metadata": {
    "collapsed": false
   },
   "id": "11c8bbeaa274e8ce"
  },
  {
   "cell_type": "code",
   "execution_count": 14,
   "outputs": [],
   "source": [],
   "metadata": {
    "collapsed": false,
    "ExecuteTime": {
     "end_time": "2023-08-07T14:20:57.314685300Z",
     "start_time": "2023-08-07T14:20:57.293175900Z"
    }
   },
   "id": "3755705737abc15"
  },
  {
   "cell_type": "markdown",
   "source": [
    "Wygeneruj wartość losową z zakresu 0 - 1"
   ],
   "metadata": {
    "collapsed": false
   },
   "id": "e6bde793abbe417a"
  },
  {
   "cell_type": "code",
   "execution_count": null,
   "outputs": [],
   "source": [],
   "metadata": {
    "collapsed": false
   },
   "id": "f6c5569479ecf30d"
  },
  {
   "cell_type": "code",
   "execution_count": 15,
   "outputs": [
    {
     "data": {
      "text/plain": "0.22199317108973948"
     },
     "execution_count": 15,
     "metadata": {},
     "output_type": "execute_result"
    }
   ],
   "source": [
    "######################################################################################"
   ],
   "metadata": {
    "collapsed": false,
    "ExecuteTime": {
     "end_time": "2023-08-07T14:21:08.479665600Z",
     "start_time": "2023-08-07T14:21:08.455332300Z"
    }
   },
   "id": "e830bf1916cdbf3d"
  },
  {
   "cell_type": "markdown",
   "source": [
    "Stwórz tablicę 10 elementów z wartościami losowymi"
   ],
   "metadata": {
    "collapsed": false
   },
   "id": "7d335c710a1e0233"
  },
  {
   "cell_type": "code",
   "execution_count": null,
   "outputs": [],
   "source": [],
   "metadata": {
    "collapsed": false
   },
   "id": "768e3f7909cbf8a6"
  },
  {
   "cell_type": "code",
   "execution_count": 17,
   "outputs": [
    {
     "data": {
      "text/plain": "array([0.7384403 , 0.44130922, 0.15830987, 0.87993703, 0.27408646,\n       0.41423502, 0.29607993, 0.62878791, 0.57983781, 0.5999292 ])"
     },
     "execution_count": 17,
     "metadata": {},
     "output_type": "execute_result"
    }
   ],
   "source": [
    "######################################################################################"
   ],
   "metadata": {
    "collapsed": false,
    "ExecuteTime": {
     "end_time": "2023-08-07T14:25:49.101778300Z",
     "start_time": "2023-08-07T14:25:49.083746600Z"
    }
   },
   "id": "a3217d4db1772b1e"
  },
  {
   "cell_type": "markdown",
   "source": [
    "Tworzenie tablicy arr potrzebnej do kolejnych poleceń"
   ],
   "metadata": {
    "collapsed": false
   },
   "id": "afc190a40f439acb"
  },
  {
   "cell_type": "code",
   "execution_count": 21,
   "outputs": [
    {
     "data": {
      "text/plain": "array([[ 1,  2,  3,  4,  5],\n       [ 6,  7,  8,  9, 10],\n       [11, 12, 13, 14, 15],\n       [16, 17, 18, 19, 20],\n       [21, 22, 23, 24, 25]])"
     },
     "execution_count": 21,
     "metadata": {},
     "output_type": "execute_result"
    }
   ],
   "source": [
    "arr = np.arange(1, 26).reshape(5, 5)\n",
    "arr"
   ],
   "metadata": {
    "collapsed": false,
    "ExecuteTime": {
     "end_time": "2023-08-07T14:26:50.850457200Z",
     "start_time": "2023-08-07T14:26:50.823789600Z"
    }
   },
   "id": "5fd9c3515d90d717"
  },
  {
   "cell_type": "markdown",
   "source": [
    "Wyświetl rząd tablicy arr z indexem 3"
   ],
   "metadata": {
    "collapsed": false
   },
   "id": "964ea9cbef1698b1"
  },
  {
   "cell_type": "code",
   "execution_count": null,
   "outputs": [],
   "source": [],
   "metadata": {
    "collapsed": false
   },
   "id": "3c688ac08bd2d43e"
  },
  {
   "cell_type": "code",
   "execution_count": 22,
   "outputs": [
    {
     "data": {
      "text/plain": "array([16, 17, 18, 19, 20])"
     },
     "execution_count": 22,
     "metadata": {},
     "output_type": "execute_result"
    }
   ],
   "source": [
    "######################################################################################"
   ],
   "metadata": {
    "collapsed": false,
    "ExecuteTime": {
     "end_time": "2023-08-07T14:27:56.606584900Z",
     "start_time": "2023-08-07T14:27:56.566725Z"
    }
   },
   "id": "e31e78ee188d9b0a"
  },
  {
   "cell_type": "markdown",
   "source": [
    "Wyświetl rzędy tablicy arr z index z zakresu od 0 do 3"
   ],
   "metadata": {
    "collapsed": false
   },
   "id": "8bfc00f1af7b32d6"
  },
  {
   "cell_type": "code",
   "execution_count": null,
   "outputs": [],
   "source": [],
   "metadata": {
    "collapsed": false
   },
   "id": "eb96bdf1b669ccfc"
  },
  {
   "cell_type": "code",
   "execution_count": 24,
   "outputs": [
    {
     "data": {
      "text/plain": "array([[ 1,  2,  3,  4,  5],\n       [ 6,  7,  8,  9, 10],\n       [11, 12, 13, 14, 15],\n       [16, 17, 18, 19, 20]])"
     },
     "execution_count": 24,
     "metadata": {},
     "output_type": "execute_result"
    }
   ],
   "source": [
    "######################################################################################"
   ],
   "metadata": {
    "collapsed": false,
    "ExecuteTime": {
     "end_time": "2023-08-07T14:29:33.568800200Z",
     "start_time": "2023-08-07T14:29:33.537687Z"
    }
   },
   "id": "d882cb413e6abd1f"
  },
  {
   "cell_type": "markdown",
   "source": [
    "Wyświetl element z tablicy arr o indexie 2,1"
   ],
   "metadata": {
    "collapsed": false
   },
   "id": "9422321da3d9b4a2"
  },
  {
   "cell_type": "code",
   "execution_count": null,
   "outputs": [],
   "source": [],
   "metadata": {
    "collapsed": false
   },
   "id": "eab9cfd7346b619c"
  },
  {
   "cell_type": "code",
   "execution_count": 26,
   "outputs": [
    {
     "data": {
      "text/plain": "12"
     },
     "execution_count": 26,
     "metadata": {},
     "output_type": "execute_result"
    }
   ],
   "source": [
    "######################################################################################"
   ],
   "metadata": {
    "collapsed": false,
    "ExecuteTime": {
     "end_time": "2023-08-07T14:31:44.562161300Z",
     "start_time": "2023-08-07T14:31:44.500807500Z"
    }
   },
   "id": "952a3fba4ea5071f"
  },
  {
   "cell_type": "markdown",
   "source": [
    "Wyświetl sumę elementów w tablicy arr"
   ],
   "metadata": {
    "collapsed": false
   },
   "id": "989a905040c2ac13"
  },
  {
   "cell_type": "code",
   "execution_count": null,
   "outputs": [],
   "source": [],
   "metadata": {
    "collapsed": false
   },
   "id": "d9336a341447529a"
  },
  {
   "cell_type": "code",
   "execution_count": 27,
   "outputs": [
    {
     "data": {
      "text/plain": "325"
     },
     "execution_count": 27,
     "metadata": {},
     "output_type": "execute_result"
    }
   ],
   "source": [
    "######################################################################################"
   ],
   "metadata": {
    "collapsed": false,
    "ExecuteTime": {
     "end_time": "2023-08-07T14:31:49.431553700Z",
     "start_time": "2023-08-07T14:31:49.381776200Z"
    }
   },
   "id": "4fd0e7b5f401768b"
  },
  {
   "cell_type": "markdown",
   "source": [
    "Wyświetl elementy większe od 10 z tablicy arr"
   ],
   "metadata": {
    "collapsed": false
   },
   "id": "665a5b1f62165a9f"
  },
  {
   "cell_type": "code",
   "execution_count": null,
   "outputs": [],
   "source": [],
   "metadata": {
    "collapsed": false
   },
   "id": "4b4504cd3e1aac21"
  },
  {
   "cell_type": "code",
   "execution_count": 31,
   "outputs": [
    {
     "data": {
      "text/plain": "array([11, 12, 13, 14, 15, 16, 17, 18, 19, 20, 21, 22, 23, 24, 25])"
     },
     "execution_count": 31,
     "metadata": {},
     "output_type": "execute_result"
    }
   ],
   "source": [
    "######################################################################################"
   ],
   "metadata": {
    "collapsed": false,
    "ExecuteTime": {
     "end_time": "2023-08-07T14:42:23.255589400Z",
     "start_time": "2023-08-07T14:42:23.232589900Z"
    }
   },
   "id": "c30321d22340e9fe"
  }
 ],
 "metadata": {
  "kernelspec": {
   "display_name": "Python 3",
   "language": "python",
   "name": "python3"
  },
  "language_info": {
   "codemirror_mode": {
    "name": "ipython",
    "version": 2
   },
   "file_extension": ".py",
   "mimetype": "text/x-python",
   "name": "python",
   "nbconvert_exporter": "python",
   "pygments_lexer": "ipython2",
   "version": "2.7.6"
  }
 },
 "nbformat": 4,
 "nbformat_minor": 5
}
